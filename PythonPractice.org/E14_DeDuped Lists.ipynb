{
 "cells": [
  {
   "cell_type": "markdown",
   "id": "e4e3d7d1",
   "metadata": {},
   "source": [
    "# Exercise 14"
   ]
  },
  {
   "cell_type": "markdown",
   "id": "4a85a3aa",
   "metadata": {},
   "source": [
    "https://www.practicepython.org/exercise/2014/05/15/14-list-remove-duplicates.html\n",
    "\n",
    "Write a program (function!) that takes a list and returns a new list that contains all the elements of the first list minus all the duplicates.\n",
    "\n",
    "Extras:\n",
    "Write two different functions to do this - one using a loop and constructing a list, and another using sets.\n",
    "Go back and do Exercise 5 using sets, and write the solution for that in a different function."
   ]
  },
  {
   "cell_type": "markdown",
   "id": "12e8abec",
   "metadata": {},
   "source": [
    "\n"
   ]
  },
  {
   "cell_type": "code",
   "execution_count": 72,
   "id": "b62c6282",
   "metadata": {},
   "outputs": [],
   "source": [
    "import random"
   ]
  },
  {
   "cell_type": "code",
   "execution_count": 65,
   "id": "383ff05d",
   "metadata": {},
   "outputs": [],
   "source": [
    "def constructList(n):\n",
    "    #where n is the number of random variables to generate\n",
    "    lst = []\n",
    "    for i in range(0,n):\n",
    "        lst.append(random.randrange(1,10,1))\n",
    "    return lst\n",
    "\n",
    "def removeDupeLoop(lst):\n",
    "    found = []\n",
    "    for i in lst:\n",
    "        if i not in found:\n",
    "            found.append(i)\n",
    "    return found\n",
    "\n",
    "def removeDupeSet(lst): return set(lst)"
   ]
  },
  {
   "cell_type": "code",
   "execution_count": 68,
   "id": "27e7601d",
   "metadata": {},
   "outputs": [
    {
     "name": "stdout",
     "output_type": "stream",
     "text": [
      "[9, 2, 7, 6, 6, 3, 6, 7, 5, 8]\n",
      "[9, 2, 7, 6, 3, 5, 8]\n"
     ]
    }
   ],
   "source": [
    "myList = constructList(10)\n",
    "\n",
    "print(myList)\n",
    "\n",
    "print(removeDupeLoop(myList))"
   ]
  },
  {
   "cell_type": "code",
   "execution_count": 69,
   "id": "e0048861",
   "metadata": {},
   "outputs": [
    {
     "name": "stdout",
     "output_type": "stream",
     "text": [
      "{2, 3, 5, 6, 7, 8, 9}\n"
     ]
    }
   ],
   "source": [
    "print(removeDupeSet(myList))"
   ]
  },
  {
   "cell_type": "code",
   "execution_count": null,
   "id": "6c429ac5",
   "metadata": {},
   "outputs": [],
   "source": []
  }
 ],
 "metadata": {
  "kernelspec": {
   "display_name": "Python 3 (ipykernel)",
   "language": "python",
   "name": "python3"
  },
  "language_info": {
   "codemirror_mode": {
    "name": "ipython",
    "version": 3
   },
   "file_extension": ".py",
   "mimetype": "text/x-python",
   "name": "python",
   "nbconvert_exporter": "python",
   "pygments_lexer": "ipython3",
   "version": "3.9.13"
  }
 },
 "nbformat": 4,
 "nbformat_minor": 5
}
