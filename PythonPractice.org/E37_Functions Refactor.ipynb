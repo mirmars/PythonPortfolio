{
 "cells": [
  {
   "cell_type": "markdown",
   "id": "16f43c83",
   "metadata": {},
   "source": [
    "# Exercise 37"
   ]
  },
  {
   "cell_type": "markdown",
   "id": "bd225df0",
   "metadata": {},
   "source": [
    "One area of confusion for new coders is the concept of functions (which have been addressed on this blog in exercise 11 for example). So in this exercise, we will be stretching our functions muscle by refactoring an existing code snippet into using functions.\n",
    "\n",
    "Here is the code snippet to refactor (taken from a correct but very repeated solution to exercise 24 on this website):\n",
    "\n",
    "```print(\" --- --- ---\")\n",
    "print(\"|   |   |   |\")\n",
    "print(\" --- --- ---\")\n",
    "print(\"|   |   |   |\")\n",
    "print(\" --- --- ---\")\n",
    "print(\"|   |   |   |\")\n",
    "print(\" --- --- ---\")```\n",
    "\n",
    "Hint: Think about a way to refactor this using functions where generating an 8x8 or a 19x19 grid is a single change to a function call!"
   ]
  },
  {
   "cell_type": "markdown",
   "id": "01c8c255",
   "metadata": {},
   "source": [
    "\n"
   ]
  },
  {
   "cell_type": "code",
   "execution_count": 72,
   "id": "28d3f7c0",
   "metadata": {},
   "outputs": [],
   "source": [
    "def addLine(x,y):\n",
    "    for i in range(0,y):\n",
    "        toPrint = (\" ---\" * x)+'\\n'\n",
    "        toPrint += (\"|   \" * x)+'|'\n",
    "        print(toPrint)\n",
    "    print((\" ---\" * x))"
   ]
  },
  {
   "cell_type": "code",
   "execution_count": 73,
   "id": "d20fd390",
   "metadata": {},
   "outputs": [
    {
     "name": "stdout",
     "output_type": "stream",
     "text": [
      " --- --- ---\n",
      "|   |   |   |\n",
      " --- --- ---\n"
     ]
    }
   ],
   "source": [
    "addLine(3,1)"
   ]
  },
  {
   "cell_type": "code",
   "execution_count": 74,
   "id": "85b83f8e",
   "metadata": {},
   "outputs": [
    {
     "name": "stdout",
     "output_type": "stream",
     "text": [
      " --- --- --- --- ---\n",
      "|   |   |   |   |   |\n",
      " --- --- --- --- ---\n",
      "|   |   |   |   |   |\n",
      " --- --- --- --- ---\n",
      "|   |   |   |   |   |\n",
      " --- --- --- --- ---\n"
     ]
    }
   ],
   "source": [
    "addLine(5,3)"
   ]
  },
  {
   "cell_type": "code",
   "execution_count": null,
   "id": "bddfb374",
   "metadata": {},
   "outputs": [],
   "source": []
  }
 ],
 "metadata": {
  "kernelspec": {
   "display_name": "Python 3 (ipykernel)",
   "language": "python",
   "name": "python3"
  },
  "language_info": {
   "codemirror_mode": {
    "name": "ipython",
    "version": 3
   },
   "file_extension": ".py",
   "mimetype": "text/x-python",
   "name": "python",
   "nbconvert_exporter": "python",
   "pygments_lexer": "ipython3",
   "version": "3.9.13"
  }
 },
 "nbformat": 4,
 "nbformat_minor": 5
}
