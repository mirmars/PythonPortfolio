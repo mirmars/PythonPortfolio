{
 "cells": [
  {
   "cell_type": "markdown",
   "id": "dc40c078",
   "metadata": {},
   "source": [
    "# Exercise 16"
   ]
  },
  {
   "cell_type": "markdown",
   "id": "9215d1ae",
   "metadata": {},
   "source": [
    "https://www.practicepython.org/exercise/2014/05/28/16-password-generator.html\n",
    "\n",
    "Write a password generator in Python. Be creative with how you generate passwords - strong passwords have a mix of lowercase letters, uppercase letters, numbers, and symbols. The passwords should be random, generating a new password every time the user asks for a new password. Include your run-time code in a main method.\n",
    "\n",
    "Extra:\n",
    "Ask the user how strong they want their password to be. For weak passwords, pick a word or two from a list."
   ]
  },
  {
   "cell_type": "markdown",
   "id": "2581b4b3",
   "metadata": {},
   "source": [
    "\n"
   ]
  },
  {
   "cell_type": "code",
   "execution_count": 147,
   "id": "22a897f1",
   "metadata": {},
   "outputs": [],
   "source": [
    "import string\n",
    "import random\n",
    "import re\n",
    "from urllib.request import urlopen\n",
    "from bs4 import BeautifulSoup\n",
    "\n",
    "charTypes = {0: 'lowercase letter', \n",
    "             1: 'uppercase letter', \n",
    "             2: 'number', \n",
    "             3: 'punctuation'}\n",
    "\n",
    "lowercaseLetters = 'abcdefghijklmnopqrstuvwxyz'\n",
    "uppercaseLetters = lowercaseLetters.upper()\n",
    "punctuation = string.punctuation"
   ]
  },
  {
   "cell_type": "code",
   "execution_count": 140,
   "id": "b327c1a3",
   "metadata": {},
   "outputs": [],
   "source": [
    "def getRandomWords(n):\n",
    "    #where n is the number of words to return\n",
    "    words = []\n",
    "    for i in range(0,n):\n",
    "        html = urlopen('https://random-word-api.herokuapp.com/word?length=5&lang=en')\n",
    "        bs1 = BeautifulSoup(html.read(), 'html.parser')\n",
    "        word = re.sub(\"\\W\", \"\", bs1.prettify())\n",
    "        words.append(word)\n",
    "    return words\n",
    "        \n",
    "\n",
    "def getPassword(strength):\n",
    "    password = []\n",
    "    if strength == 'weak':\n",
    "        password = getRandomWords(3)\n",
    "    if strength == 'strong':\n",
    "        alltypes = 0\n",
    "        while alltypes == 0: #this will check that we have all character types represented\n",
    "            lowerType, upperType, numType, punctType = 0, 0, 0, 0\n",
    "            for i in range(0,12):\n",
    "                charType = charTypes[random.randrange(0,4)]\n",
    "                if charType == 'lowercase letter':\n",
    "                    lowerType = 1\n",
    "                    password.append(lowercaseLetters[random.randrange(0,26)])\n",
    "                elif charType == 'uppercase letter':\n",
    "                    upperType = 1\n",
    "                    password.append(uppercaseLetters[random.randrange(0,26)])\n",
    "                elif charType == 'number':\n",
    "                    numType = 1\n",
    "                    password.append(str(random.randrange(0,9)))\n",
    "                else:\n",
    "                    punctType = 1\n",
    "                    password.append(punctuation[random.randrange(0,26)])\n",
    "            if lowerType+upperType+numType+punctType == 4:\n",
    "                alltypes = 1\n",
    "    return ''.join(password)"
   ]
  },
  {
   "cell_type": "code",
   "execution_count": 144,
   "id": "f010453f",
   "metadata": {
    "scrolled": true
   },
   "outputs": [
    {
     "name": "stdout",
     "output_type": "stream",
     "text": [
      "How strong do you want your password to be? Reply strong or weak: strong\n",
      "E%0vBz2nA*$/\n"
     ]
    }
   ],
   "source": [
    "print(getPassword(input(\"How strong do you want your password to be? Reply strong or weak: \")))"
   ]
  },
  {
   "cell_type": "code",
   "execution_count": 145,
   "id": "7a15800a",
   "metadata": {},
   "outputs": [
    {
     "name": "stdout",
     "output_type": "stream",
     "text": [
      "How strong do you want your password to be? Reply strong or weak: weak\n",
      "dregsaminsadmen\n"
     ]
    }
   ],
   "source": [
    "print(getPassword(input(\"How strong do you want your password to be? Reply strong or weak: \")))"
   ]
  },
  {
   "cell_type": "code",
   "execution_count": null,
   "id": "6429d77a",
   "metadata": {},
   "outputs": [],
   "source": []
  }
 ],
 "metadata": {
  "kernelspec": {
   "display_name": "Python 3 (ipykernel)",
   "language": "python",
   "name": "python3"
  },
  "language_info": {
   "codemirror_mode": {
    "name": "ipython",
    "version": 3
   },
   "file_extension": ".py",
   "mimetype": "text/x-python",
   "name": "python",
   "nbconvert_exporter": "python",
   "pygments_lexer": "ipython3",
   "version": "3.9.13"
  }
 },
 "nbformat": 4,
 "nbformat_minor": 5
}
