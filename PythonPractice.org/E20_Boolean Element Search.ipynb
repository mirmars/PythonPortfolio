{
 "cells": [
  {
   "cell_type": "markdown",
   "id": "d6caa2ef",
   "metadata": {},
   "source": [
    "# Exercise 20"
   ]
  },
  {
   "cell_type": "markdown",
   "id": "c0a30d2c",
   "metadata": {},
   "source": [
    "https://www.practicepython.org/exercise/2014/11/11/20-element-search.html\n",
    "\n",
    "Write a function that takes an ordered list of numbers (a list where the elements are in order from smallest to largest) and another number. The function decides whether or not the given number is inside the list and returns (then prints) an appropriate boolean.\n",
    "\n",
    "Extras: Use binary search."
   ]
  },
  {
   "cell_type": "markdown",
   "id": "5313f66d",
   "metadata": {},
   "source": [
    "\n"
   ]
  },
  {
   "cell_type": "code",
   "execution_count": 134,
   "id": "103a0f12",
   "metadata": {},
   "outputs": [],
   "source": [
    "import random\n",
    "\n",
    "def getRandomOrderedList(n):\n",
    "    #where n is how many numbers to generate\n",
    "    numbers = []\n",
    "    for i in range(0,n):\n",
    "        newNumber = 0\n",
    "        while newNumber == 0: #this will make sure we don't add duplicate numbers to our list\n",
    "            n = random.randrange(0,100,1)\n",
    "            if n not in numbers:\n",
    "                newNumber = 1\n",
    "                numbers.append(n)\n",
    "    numbers.sort()\n",
    "    return numbers\n",
    "\n",
    "def isNumInList(n, lst):\n",
    "    #where n is the number to check against the list lst\n",
    "    checkList = lst\n",
    "    inList, isFinalDigit = 0, 0\n",
    "    while isFinalDigit == 0:\n",
    "        toCheck = int(len(checkList)/2)\n",
    "        if checkList[toCheck] == n:\n",
    "            inList = 1\n",
    "            isFinalDigit = 1\n",
    "        elif checkList[toCheck] > n:\n",
    "            checkList = checkList[:toCheck]\n",
    "            if len(checkList) < 1:\n",
    "                isFinalDigit = 1\n",
    "        else:\n",
    "            checkList = checkList[toCheck:]\n",
    "            if len(checkList) <= 1:\n",
    "                isFinalDigit = 1\n",
    "        \n",
    "    return inList"
   ]
  },
  {
   "cell_type": "code",
   "execution_count": 77,
   "id": "c9d8178b",
   "metadata": {},
   "outputs": [],
   "source": [
    "myList = getRandomOrderedList(21)"
   ]
  },
  {
   "cell_type": "code",
   "execution_count": 78,
   "id": "a4c0275d",
   "metadata": {},
   "outputs": [
    {
     "name": "stdout",
     "output_type": "stream",
     "text": [
      "[5, 6, 7, 18, 20, 32, 35, 41, 46, 50, 52, 60, 63, 67, 77, 78, 80, 90, 91, 94, 99]\n"
     ]
    }
   ],
   "source": [
    "print(myList)"
   ]
  },
  {
   "cell_type": "code",
   "execution_count": 133,
   "id": "5e164e6f",
   "metadata": {},
   "outputs": [
    {
     "data": {
      "text/plain": [
       "1"
      ]
     },
     "execution_count": 133,
     "metadata": {},
     "output_type": "execute_result"
    }
   ],
   "source": [
    "isNumInList(5, myList)"
   ]
  },
  {
   "cell_type": "code",
   "execution_count": 118,
   "id": "a95199d2",
   "metadata": {},
   "outputs": [
    {
     "data": {
      "text/plain": [
       "0"
      ]
     },
     "execution_count": 118,
     "metadata": {},
     "output_type": "execute_result"
    }
   ],
   "source": [
    "isNumInList(1, myList)"
   ]
  },
  {
   "cell_type": "code",
   "execution_count": 120,
   "id": "50d5ca46",
   "metadata": {},
   "outputs": [
    {
     "data": {
      "text/plain": [
       "1"
      ]
     },
     "execution_count": 120,
     "metadata": {},
     "output_type": "execute_result"
    }
   ],
   "source": [
    "isNumInList(77, myList)"
   ]
  },
  {
   "cell_type": "code",
   "execution_count": 121,
   "id": "33dc41a7",
   "metadata": {},
   "outputs": [
    {
     "data": {
      "text/plain": [
       "0"
      ]
     },
     "execution_count": 121,
     "metadata": {},
     "output_type": "execute_result"
    }
   ],
   "source": [
    "isNumInList(177, myList)"
   ]
  },
  {
   "cell_type": "code",
   "execution_count": 135,
   "id": "a6f79bcd",
   "metadata": {},
   "outputs": [
    {
     "data": {
      "text/plain": [
       "0"
      ]
     },
     "execution_count": 135,
     "metadata": {},
     "output_type": "execute_result"
    }
   ],
   "source": [
    "isNumInList(-177, myList)"
   ]
  },
  {
   "cell_type": "code",
   "execution_count": null,
   "id": "36355718",
   "metadata": {},
   "outputs": [],
   "source": []
  }
 ],
 "metadata": {
  "kernelspec": {
   "display_name": "Python 3 (ipykernel)",
   "language": "python",
   "name": "python3"
  },
  "language_info": {
   "codemirror_mode": {
    "name": "ipython",
    "version": 3
   },
   "file_extension": ".py",
   "mimetype": "text/x-python",
   "name": "python",
   "nbconvert_exporter": "python",
   "pygments_lexer": "ipython3",
   "version": "3.9.13"
  }
 },
 "nbformat": 4,
 "nbformat_minor": 5
}
