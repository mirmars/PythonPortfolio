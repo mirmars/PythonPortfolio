{
 "cells": [
  {
   "cell_type": "markdown",
   "id": "c3dd0b76",
   "metadata": {},
   "source": [
    "# Exercise 29"
   ]
  },
  {
   "cell_type": "markdown",
   "id": "ed458625",
   "metadata": {},
   "source": [
    "Your challenge in this exercise is to use the functions from those previous exercises all together in the same program to make a two-player game that you can play with a friend. "
   ]
  },
  {
   "cell_type": "markdown",
   "id": "385c2350",
   "metadata": {},
   "source": [
    "\n"
   ]
  },
  {
   "cell_type": "code",
   "execution_count": 200,
   "id": "783b77d4",
   "metadata": {},
   "outputs": [],
   "source": [
    "import re\n",
    "\n",
    "def main():\n",
    "    play = 1\n",
    "    while play == 1:\n",
    "        newBoard = [\n",
    "            [0, 0, 0],\n",
    "            [0, 0, 0],\n",
    "            [0, 0, 0]]\n",
    "        playBoard = newBoard\n",
    "        playerOrder = [1,2]\n",
    "        playerChar = {1:'X',2:'O'}\n",
    "        squaresLeft = len(playBoard)*len(playBoard[0])\n",
    "        winner = 0\n",
    "        gameRound = 1\n",
    "\n",
    "        while gameRound == 1:\n",
    "            inp = input(f\"Player {playerOrder[0]}, what coordinates do you want to place your piece at? Respond like 'row, col', starting with row 1. \")\n",
    "            playBoard = addMove(playBoard, playerOrder[0], inp, playerChar)\n",
    "            for line in drawBoard(playBoard):\n",
    "                print(line)\n",
    "            squaresLeft -= 1\n",
    "            playerOrder.append(playerOrder[0])\n",
    "            playerOrder.pop(0)\n",
    "            winner = checkWin(playBoard)\n",
    "            if winner != 0:\n",
    "                print(f\"Player {winner} has won! Congratulations!\\n\")\n",
    "                gameRound = 0\n",
    "            if squaresLeft < 1:\n",
    "                print(\"All the tiles are full. It's a draw!\\n\")\n",
    "                gameRound = 0\n",
    "        contAnswer = ''\n",
    "        while contAnswer != 'no' and contAnswer != 'yes':\n",
    "            contAnswer = input(\"Would you like to play again? Answer yes or no. \")\n",
    "        if contAnswer == 'no':\n",
    "            print(\"Game over! Thanks for playing!\")\n",
    "            play = 0\n",
    "        else:\n",
    "            print(\"Great, let's play again!/n\")"
   ]
  },
  {
   "cell_type": "code",
   "execution_count": 189,
   "id": "207979e0",
   "metadata": {},
   "outputs": [],
   "source": [
    "def drawBoard(board):\n",
    "    size = 3\n",
    "\n",
    "    rows = {\"rowh\": \"|-|\",\"rowv\": \"|\"}\n",
    "    endChar = \"|\"\n",
    "    endRow = rows['rowh']\n",
    "    ListtoDraw = []\n",
    "\n",
    "    for x in board:\n",
    "        row = []\n",
    "        ListtoDraw.append((endRow*size))\n",
    "        for y in x:\n",
    "            row.append(rows['rowv']+str(y)+endChar)\n",
    "        ListtoDraw.append(''.join(row))\n",
    "    ListtoDraw.append((endRow*size))\n",
    "    return ListtoDraw"
   ]
  },
  {
   "cell_type": "code",
   "execution_count": 107,
   "id": "7df9bfc0",
   "metadata": {},
   "outputs": [],
   "source": [
    "def addMove(board, player, coords, playerChar):\n",
    "    crd = coords\n",
    "    valid = 0\n",
    "    charToAdd = playerChar\n",
    "    while valid == 0:\n",
    "        x,y = int(crd.split(',')[0])-1, int(crd.split(',')[1])-1\n",
    "        if x < len(board) and y < len(board) and board[x][y] == 0:\n",
    "            board[x][y] = charToAdd[player]    \n",
    "            valid = 1\n",
    "        else:\n",
    "            crd = input('Invalid move! Please try again. ')\n",
    "    return(board)"
   ]
  },
  {
   "cell_type": "code",
   "execution_count": 30,
   "id": "6c6733e6",
   "metadata": {},
   "outputs": [],
   "source": [
    "def checkWin(brd):\n",
    "    def charToValueList(CTVlst):\n",
    "        valueList = CTVlst[:]\n",
    "        for i in range(0,len(valueList)):\n",
    "            valueList[i] = re.sub('X','1',str(valueList[i]))\n",
    "            valueList[i] = re.sub('O','2',str(valueList[i]))\n",
    "            valueList[i] = int(valueList[i])\n",
    "        return valueList\n",
    "\n",
    "    def findWin(fWlst):\n",
    "        winList = charToValueList(fWlst)[:]\n",
    "        winner = 0\n",
    "        for i in range(1,3):\n",
    "            if winList.count(i) == 3:\n",
    "                winner = i\n",
    "        return winner\n",
    "\n",
    "    winner = 0\n",
    "    for r in range(0,len(brd)): #check across rows\n",
    "        colList = []\n",
    "        rowList = brd[r]\n",
    "        diagListBack = []\n",
    "        diagListFront = []\n",
    "        winner = findWin(rowList)\n",
    "        if winner != 0: break\n",
    "        for c in range(0,len(brd[0])): #check down columns\n",
    "            colList.append(brd[c][r])\n",
    "            diagListBack.append(brd[c][c]) #check backwards diagonal \\\n",
    "            diagListFront.append(brd[(len(brd)-1)-c][c]) #check forward diagonal /\n",
    "        winner = findWin(colList)\n",
    "        if winner != 0: break\n",
    "        winner = findWin(diagListBack)\n",
    "        if winner != 0: break\n",
    "        winner = findWin(diagListFront)\n",
    "        if winner != 0: break\n",
    "    return winner"
   ]
  },
  {
   "cell_type": "code",
   "execution_count": null,
   "id": "5ddae00e",
   "metadata": {},
   "outputs": [],
   "source": []
  },
  {
   "cell_type": "markdown",
   "id": "6860b3dd",
   "metadata": {},
   "source": [
    "# Run Program"
   ]
  },
  {
   "cell_type": "code",
   "execution_count": 199,
   "id": "3cefbddc",
   "metadata": {
    "scrolled": true
   },
   "outputs": [
    {
     "name": "stdout",
     "output_type": "stream",
     "text": [
      "Player 1, what coordinates do you want to place your piece at? Respond like 'row, col', starting with row 1. 1,1\n",
      "|-||-||-|\n",
      "|X||0||0|\n",
      "|-||-||-|\n",
      "|0||0||0|\n",
      "|-||-||-|\n",
      "|0||0||0|\n",
      "|-||-||-|\n",
      "Player 2, what coordinates do you want to place your piece at? Respond like 'row, col', starting with row 1. 2,1\n",
      "|-||-||-|\n",
      "|X||0||0|\n",
      "|-||-||-|\n",
      "|O||0||0|\n",
      "|-||-||-|\n",
      "|0||0||0|\n",
      "|-||-||-|\n",
      "Player 1, what coordinates do you want to place your piece at? Respond like 'row, col', starting with row 1. 1,2\n",
      "|-||-||-|\n",
      "|X||X||0|\n",
      "|-||-||-|\n",
      "|O||0||0|\n",
      "|-||-||-|\n",
      "|0||0||0|\n",
      "|-||-||-|\n",
      "Player 2, what coordinates do you want to place your piece at? Respond like 'row, col', starting with row 1. 2,2\n",
      "|-||-||-|\n",
      "|X||X||0|\n",
      "|-||-||-|\n",
      "|O||O||0|\n",
      "|-||-||-|\n",
      "|0||0||0|\n",
      "|-||-||-|\n",
      "Player 1, what coordinates do you want to place your piece at? Respond like 'row, col', starting with row 1. 3,1\n",
      "|-||-||-|\n",
      "|X||X||0|\n",
      "|-||-||-|\n",
      "|O||O||0|\n",
      "|-||-||-|\n",
      "|X||0||0|\n",
      "|-||-||-|\n",
      "Player 2, what coordinates do you want to place your piece at? Respond like 'row, col', starting with row 1. 2,3\n",
      "|-||-||-|\n",
      "|X||X||0|\n",
      "|-||-||-|\n",
      "|O||O||O|\n",
      "|-||-||-|\n",
      "|X||0||0|\n",
      "|-||-||-|\n",
      "Player 2 has won! Congratulations!\n",
      "\n",
      "Would you like to play again? Answer yes or no. d\n",
      "Would you like to play again? Answer yes or no. yes\n",
      "Great, let's play again!/n\n",
      "Player 1, what coordinates do you want to place your piece at? Respond like 'row, col', starting with row 1. 1,1\n",
      "|-||-||-|\n",
      "|X||0||0|\n",
      "|-||-||-|\n",
      "|0||0||0|\n",
      "|-||-||-|\n",
      "|0||0||0|\n",
      "|-||-||-|\n"
     ]
    },
    {
     "ename": "KeyboardInterrupt",
     "evalue": "Interrupted by user",
     "output_type": "error",
     "traceback": [
      "\u001b[1;31m---------------------------------------------------------------------------\u001b[0m",
      "\u001b[1;31mKeyboardInterrupt\u001b[0m                         Traceback (most recent call last)",
      "\u001b[1;32m~\\AppData\\Local\\Temp\\ipykernel_19616\\451043146.py\u001b[0m in \u001b[0;36m<module>\u001b[1;34m\u001b[0m\n\u001b[1;32m----> 1\u001b[1;33m \u001b[0mmain\u001b[0m\u001b[1;33m(\u001b[0m\u001b[1;33m)\u001b[0m\u001b[1;33m\u001b[0m\u001b[1;33m\u001b[0m\u001b[0m\n\u001b[0m",
      "\u001b[1;32m~\\AppData\\Local\\Temp\\ipykernel_19616\\3756095214.py\u001b[0m in \u001b[0;36mmain\u001b[1;34m()\u001b[0m\n\u001b[0;32m     16\u001b[0m \u001b[1;33m\u001b[0m\u001b[0m\n\u001b[0;32m     17\u001b[0m         \u001b[1;32mwhile\u001b[0m \u001b[0mgameRound\u001b[0m \u001b[1;33m==\u001b[0m \u001b[1;36m1\u001b[0m\u001b[1;33m:\u001b[0m\u001b[1;33m\u001b[0m\u001b[1;33m\u001b[0m\u001b[0m\n\u001b[1;32m---> 18\u001b[1;33m             \u001b[0minp\u001b[0m \u001b[1;33m=\u001b[0m \u001b[0minput\u001b[0m\u001b[1;33m(\u001b[0m\u001b[1;34mf\"Player {playerOrder[0]}, what coordinates do you want to place your piece at? Respond like 'row, col', starting with row 1. \"\u001b[0m\u001b[1;33m)\u001b[0m\u001b[1;33m\u001b[0m\u001b[1;33m\u001b[0m\u001b[0m\n\u001b[0m\u001b[0;32m     19\u001b[0m             \u001b[0mplayBoard\u001b[0m \u001b[1;33m=\u001b[0m \u001b[0maddMove\u001b[0m\u001b[1;33m(\u001b[0m\u001b[0mplayBoard\u001b[0m\u001b[1;33m,\u001b[0m \u001b[0mplayerOrder\u001b[0m\u001b[1;33m[\u001b[0m\u001b[1;36m0\u001b[0m\u001b[1;33m]\u001b[0m\u001b[1;33m,\u001b[0m \u001b[0minp\u001b[0m\u001b[1;33m,\u001b[0m \u001b[0mplayerChar\u001b[0m\u001b[1;33m)\u001b[0m\u001b[1;33m\u001b[0m\u001b[1;33m\u001b[0m\u001b[0m\n\u001b[0;32m     20\u001b[0m             \u001b[1;32mfor\u001b[0m \u001b[0mline\u001b[0m \u001b[1;32min\u001b[0m \u001b[0mdrawBoard\u001b[0m\u001b[1;33m(\u001b[0m\u001b[0mplayBoard\u001b[0m\u001b[1;33m)\u001b[0m\u001b[1;33m:\u001b[0m\u001b[1;33m\u001b[0m\u001b[1;33m\u001b[0m\u001b[0m\n",
      "\u001b[1;32m~\\anaconda3\\lib\\site-packages\\ipykernel\\kernelbase.py\u001b[0m in \u001b[0;36mraw_input\u001b[1;34m(self, prompt)\u001b[0m\n\u001b[0;32m   1175\u001b[0m                 \u001b[1;34m\"raw_input was called, but this frontend does not support input requests.\"\u001b[0m\u001b[1;33m\u001b[0m\u001b[1;33m\u001b[0m\u001b[0m\n\u001b[0;32m   1176\u001b[0m             )\n\u001b[1;32m-> 1177\u001b[1;33m         return self._input_request(\n\u001b[0m\u001b[0;32m   1178\u001b[0m             \u001b[0mstr\u001b[0m\u001b[1;33m(\u001b[0m\u001b[0mprompt\u001b[0m\u001b[1;33m)\u001b[0m\u001b[1;33m,\u001b[0m\u001b[1;33m\u001b[0m\u001b[1;33m\u001b[0m\u001b[0m\n\u001b[0;32m   1179\u001b[0m             \u001b[0mself\u001b[0m\u001b[1;33m.\u001b[0m\u001b[0m_parent_ident\u001b[0m\u001b[1;33m[\u001b[0m\u001b[1;34m\"shell\"\u001b[0m\u001b[1;33m]\u001b[0m\u001b[1;33m,\u001b[0m\u001b[1;33m\u001b[0m\u001b[1;33m\u001b[0m\u001b[0m\n",
      "\u001b[1;32m~\\anaconda3\\lib\\site-packages\\ipykernel\\kernelbase.py\u001b[0m in \u001b[0;36m_input_request\u001b[1;34m(self, prompt, ident, parent, password)\u001b[0m\n\u001b[0;32m   1217\u001b[0m             \u001b[1;32mexcept\u001b[0m \u001b[0mKeyboardInterrupt\u001b[0m\u001b[1;33m:\u001b[0m\u001b[1;33m\u001b[0m\u001b[1;33m\u001b[0m\u001b[0m\n\u001b[0;32m   1218\u001b[0m                 \u001b[1;31m# re-raise KeyboardInterrupt, to truncate traceback\u001b[0m\u001b[1;33m\u001b[0m\u001b[1;33m\u001b[0m\u001b[0m\n\u001b[1;32m-> 1219\u001b[1;33m                 \u001b[1;32mraise\u001b[0m \u001b[0mKeyboardInterrupt\u001b[0m\u001b[1;33m(\u001b[0m\u001b[1;34m\"Interrupted by user\"\u001b[0m\u001b[1;33m)\u001b[0m \u001b[1;32mfrom\u001b[0m \u001b[1;32mNone\u001b[0m\u001b[1;33m\u001b[0m\u001b[1;33m\u001b[0m\u001b[0m\n\u001b[0m\u001b[0;32m   1220\u001b[0m             \u001b[1;32mexcept\u001b[0m \u001b[0mException\u001b[0m\u001b[1;33m:\u001b[0m\u001b[1;33m\u001b[0m\u001b[1;33m\u001b[0m\u001b[0m\n\u001b[0;32m   1221\u001b[0m                 \u001b[0mself\u001b[0m\u001b[1;33m.\u001b[0m\u001b[0mlog\u001b[0m\u001b[1;33m.\u001b[0m\u001b[0mwarning\u001b[0m\u001b[1;33m(\u001b[0m\u001b[1;34m\"Invalid Message:\"\u001b[0m\u001b[1;33m,\u001b[0m \u001b[0mexc_info\u001b[0m\u001b[1;33m=\u001b[0m\u001b[1;32mTrue\u001b[0m\u001b[1;33m)\u001b[0m\u001b[1;33m\u001b[0m\u001b[1;33m\u001b[0m\u001b[0m\n",
      "\u001b[1;31mKeyboardInterrupt\u001b[0m: Interrupted by user"
     ]
    }
   ],
   "source": [
    "main()"
   ]
  },
  {
   "cell_type": "markdown",
   "id": "fcdb8da3",
   "metadata": {
    "scrolled": true
   },
   "source": []
  },
  {
   "cell_type": "code",
   "execution_count": null,
   "id": "766a6f70",
   "metadata": {},
   "outputs": [],
   "source": []
  }
 ],
 "metadata": {
  "kernelspec": {
   "display_name": "Python 3 (ipykernel)",
   "language": "python",
   "name": "python3"
  },
  "language_info": {
   "codemirror_mode": {
    "name": "ipython",
    "version": 3
   },
   "file_extension": ".py",
   "mimetype": "text/x-python",
   "name": "python",
   "nbconvert_exporter": "python",
   "pygments_lexer": "ipython3",
   "version": "3.9.13"
  }
 },
 "nbformat": 4,
 "nbformat_minor": 5
}
