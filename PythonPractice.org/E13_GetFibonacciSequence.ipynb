{
 "cells": [
  {
   "cell_type": "markdown",
   "id": "e002947a",
   "metadata": {},
   "source": [
    "# Exercise 13"
   ]
  },
  {
   "cell_type": "markdown",
   "id": "abac20e9",
   "metadata": {},
   "source": [
    "https://www.practicepython.org/exercise/2014/04/30/13-fibonacci.html\n",
    "\n",
    "Write a program that asks the user how many Fibonnaci numbers to generate and then generates them. Take this opportunity to think about how you can use functions. Make sure to ask the user to enter the number of numbers in the sequence to generate."
   ]
  },
  {
   "cell_type": "markdown",
   "id": "30b18379",
   "metadata": {},
   "source": [
    "\n"
   ]
  },
  {
   "cell_type": "code",
   "execution_count": 69,
   "id": "9e374020",
   "metadata": {
    "scrolled": true
   },
   "outputs": [
    {
     "name": "stdout",
     "output_type": "stream",
     "text": [
      "How many Fibonacci numbers do you want? 5\n"
     ]
    }
   ],
   "source": [
    "userNum = int(input(\"How many Fibonacci numbers do you want? \"))"
   ]
  },
  {
   "cell_type": "code",
   "execution_count": 70,
   "id": "edeeb67c",
   "metadata": {},
   "outputs": [],
   "source": [
    "def makeFibo(n):\n",
    "    addNum = 1\n",
    "    fibo = [0]\n",
    "    for i in range(1,n):\n",
    "        fibo.append(addNum)\n",
    "        addNum = addNum + sum(fibo[-2:-1])\n",
    "    return fibo"
   ]
  },
  {
   "cell_type": "code",
   "execution_count": 71,
   "id": "3a7b1c0f",
   "metadata": {},
   "outputs": [
    {
     "name": "stdout",
     "output_type": "stream",
     "text": [
      "[0, 1, 1, 2, 3]\n"
     ]
    }
   ],
   "source": [
    "print(makeFibo(userNum))"
   ]
  },
  {
   "cell_type": "code",
   "execution_count": null,
   "id": "251be09d",
   "metadata": {},
   "outputs": [],
   "source": []
  }
 ],
 "metadata": {
  "kernelspec": {
   "display_name": "Python 3 (ipykernel)",
   "language": "python",
   "name": "python3"
  },
  "language_info": {
   "codemirror_mode": {
    "name": "ipython",
    "version": 3
   },
   "file_extension": ".py",
   "mimetype": "text/x-python",
   "name": "python",
   "nbconvert_exporter": "python",
   "pygments_lexer": "ipython3",
   "version": "3.9.13"
  }
 },
 "nbformat": 4,
 "nbformat_minor": 5
}
