{
 "cells": [
  {
   "cell_type": "markdown",
   "id": "a9a158f5",
   "metadata": {},
   "source": [
    "# Exercise 25"
   ]
  },
  {
   "cell_type": "markdown",
   "id": "7afad30f",
   "metadata": {},
   "source": [
    "https://www.practicepython.org/exercise/2015/11/01/25-guessing-game-two.html\n",
    "\n",
    "You, the user, will have in your head a number between 0 and 100. The program will guess a number, and you, the user, will say whether it is too high, too low, or your number."
   ]
  },
  {
   "cell_type": "markdown",
   "id": "2389eacb",
   "metadata": {},
   "source": [
    "\n"
   ]
  },
  {
   "cell_type": "code",
   "execution_count": 58,
   "id": "f9609271",
   "metadata": {},
   "outputs": [],
   "source": [
    "import time\n",
    "import random\n",
    "\n",
    "def main():\n",
    "    exit = 0\n",
    "    maxNumber = 100\n",
    "    exitWords = ['quit','stop','exit']\n",
    "    \n",
    "    while exit != 1:\n",
    "        guessCount = 0\n",
    "        currentMin = 0\n",
    "        currentMax = int(maxNumber)\n",
    "        validInput = 0\n",
    "        round = 1\n",
    "        print(f\"Let's play a guessing game! You think of a number between 0 and {maxNumber}.\")\n",
    "        time.sleep(0.2)\n",
    "        lastInput = input(\"When you're ready, say yes. \")\n",
    "\n",
    "        while round != 0 and exit != 1:\n",
    "            lastInput, exit = makeValidInput(lastInput,['yes','ready'],exitWords)\n",
    "            if exit != 1:\n",
    "                currentRange = currentMax - currentMin\n",
    "                print(f\"{currentRange}\")\n",
    "                print(\"OK! Let me make a guess....\")\n",
    "                time.sleep(0.5)\n",
    "\n",
    "                # To make things fun, we'll add a bit of randomness to our guesses! \n",
    "                # Our guesses will be somewhere within 25%-75% of our current range.\n",
    "                if currentRange > 1:\n",
    "                    newGuess = random.randrange(int(currentMin+(currentRange*0.25)),int(currentMax-(currentRange*0.25)),1)\n",
    "                else: newGuess = currentMin\n",
    "\n",
    "                print(f\"I think your number is... {int(newGuess)}!\")\n",
    "                guessCount, guessAnswer, exit = checkGuess(newGuess, guessCount,exitWords)\n",
    "                if guessAnswer == 'yes':\n",
    "                    lastInput = input(\"Would you like to play again? \")\n",
    "                    lastInput, exit = makeValidInput(lastInput,['yes','no'],exitWords)\n",
    "                    if lastInput == 'yes':\n",
    "                        round = 0\n",
    "                    else:\n",
    "                        round = 0\n",
    "                        exit = 1\n",
    "                elif currentRange == 0:\n",
    "                    print(f\"Wait, but that's not possible, because {currentMin-1} was too low and {currentMax+1} was too high! Something must have gone wrong. Let's try again!\")\n",
    "                    round = 0\n",
    "                elif guessAnswer == 'low' or guessAnswer == 'too low':\n",
    "                    currentMin = newGuess+1\n",
    "                elif guessAnswer == 'high' or guessAnswer == 'too high':\n",
    "                    currentMax = newGuess-1\n",
    "    print(\"Thanks for playing!\")\n",
    "\n",
    "def checkGuess(nGuess, gCount, exitWords):\n",
    "    feedback = ''\n",
    "    lastInput = input(\"Was I right? \")\n",
    "    lastInput, exit = makeValidInput(lastInput, ['yes','no'],exitWords)\n",
    "    gCount += 1\n",
    "    if exit != 1:\n",
    "        if lastInput == 'yes':\n",
    "            print(f\"It was {int(nGuess)}! It took me {gCount} tries to get it!\")\n",
    "            feedback = lastInput\n",
    "        else: \n",
    "            lastInput = input(f\"Was {nGuess} too high or too low? \")\n",
    "            lastInput, exit = makeValidInput(lastInput, ['too high','too low','high','low'],exitWords)\n",
    "            if exit != 1:\n",
    "                feedback = lastInput\n",
    "    return gCount, feedback, exit\n",
    "\n",
    "def makeValidInput(userInput, validOptions, exitWords):\n",
    "    checkInput = userInput.lower()\n",
    "    exit = 0\n",
    "    valid = 0\n",
    "    while valid == 0:\n",
    "        checkInput = checkInput.lower()\n",
    "        if checkInput not in validOptions and checkInput not in exitWords:\n",
    "            checkInput = input(f\"I didn't understand that. Please answer {', '.join(validOptions)} or quit. \")\n",
    "        elif checkInput in validOptions:\n",
    "            valid = 1\n",
    "        elif checkInput in exitWords:\n",
    "            valid = 1\n",
    "            exit = 1\n",
    "    return checkInput, exit"
   ]
  },
  {
   "cell_type": "code",
   "execution_count": 60,
   "id": "c508151c",
   "metadata": {},
   "outputs": [
    {
     "name": "stdout",
     "output_type": "stream",
     "text": [
      "Let's play a guessing game! You think of a number between 0 and 100.\n",
      "When you're ready, say yes. no\n",
      "I didn't understand that. Please answer yes, ready or quit. yes\n",
      "100\n",
      "OK! Let me make a guess....\n",
      "I think your number is... 39!\n",
      "Was I right? no\n",
      "Was 39 too high or too low? high\n",
      "38\n",
      "OK! Let me make a guess....\n",
      "I think your number is... 17!\n",
      "Was I right? no\n",
      "Was 17 too high or too low? too Low\n",
      "20\n",
      "OK! Let me make a guess....\n",
      "I think your number is... 31!\n",
      "Was I right? yes\n",
      "It was 31! It took me 3 tries to get it!\n",
      "Would you like to play again? no\n",
      "Thanks for playing!\n"
     ]
    }
   ],
   "source": [
    "main()"
   ]
  },
  {
   "cell_type": "code",
   "execution_count": null,
   "id": "64b41c36",
   "metadata": {},
   "outputs": [],
   "source": []
  },
  {
   "cell_type": "code",
   "execution_count": null,
   "id": "a5d054b7",
   "metadata": {},
   "outputs": [],
   "source": []
  },
  {
   "cell_type": "code",
   "execution_count": null,
   "id": "02496eb9",
   "metadata": {},
   "outputs": [],
   "source": []
  }
 ],
 "metadata": {
  "kernelspec": {
   "display_name": "Python 3 (ipykernel)",
   "language": "python",
   "name": "python3"
  },
  "language_info": {
   "codemirror_mode": {
    "name": "ipython",
    "version": 3
   },
   "file_extension": ".py",
   "mimetype": "text/x-python",
   "name": "python",
   "nbconvert_exporter": "python",
   "pygments_lexer": "ipython3",
   "version": "3.9.13"
  }
 },
 "nbformat": 4,
 "nbformat_minor": 5
}
