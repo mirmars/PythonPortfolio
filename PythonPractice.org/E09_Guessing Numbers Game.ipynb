{
 "cells": [
  {
   "cell_type": "markdown",
   "id": "a9a158f5",
   "metadata": {},
   "source": [
    "# Exercise 9"
   ]
  },
  {
   "cell_type": "markdown",
   "id": "7afad30f",
   "metadata": {},
   "source": [
    "https://www.practicepython.org/exercise/2014/04/02/09-guessing-game-one.html\n",
    "\n",
    "Generate a random number between 1 and 9 (including 1 and 9). Ask the user to guess the number, then tell them whether they guessed too low, too high, or exactly right."
   ]
  },
  {
   "cell_type": "markdown",
   "id": "2389eacb",
   "metadata": {},
   "source": [
    "\n"
   ]
  },
  {
   "cell_type": "code",
   "execution_count": 16,
   "id": "f9609271",
   "metadata": {},
   "outputs": [
    {
     "name": "stdout",
     "output_type": "stream",
     "text": [
      "Let's play a guessing game! Type exit to quit.\n",
      "\n",
      "What number am I thinking of? \n",
      "\n",
      "What is your guess? 1\n",
      "Not quite! Try again.\n",
      "\n",
      "What is your guess? 2\n",
      "Not quite! Try again.\n",
      "\n",
      "What is your guess? 3\n",
      "Not quite! Try again.\n",
      "\n",
      "What is your guess? 4\n",
      "Not quite! Try again.\n",
      "\n",
      "What is your guess? 5\n",
      "Not quite! Try again.\n",
      "\n",
      "What is your guess? 6\n",
      "Not quite! Try again.\n",
      "\n",
      "What is your guess? 7\n",
      "Not quite! Try again.\n",
      "\n",
      "What is your guess? 8\n",
      "You guessed it! It took you 8 tries.\n",
      " Let's play again! Type exit to quit.\n",
      "\n",
      "What is your guess? exit\n",
      "Thanks for playing!\n"
     ]
    }
   ],
   "source": [
    "import random\n",
    "\n",
    "exit = 0\n",
    "guessCount = 0\n",
    "number = 0\n",
    "\n",
    "def genRandom():\n",
    "    num = random.randrange(1,10,1)\n",
    "    return num\n",
    "\n",
    "def userInput(n, gC):\n",
    "    inp = input(\"What is your guess? \")\n",
    "    if inp == 'exit':\n",
    "        return gC, inp, 1\n",
    "    gC = gC + 1\n",
    "    return gC, int(inp), 0\n",
    "    \n",
    "print(\"Let's play a guessing game! Type exit to quit.\\n\")\n",
    "\n",
    "\n",
    "number = genRandom()\n",
    "print(\"What number am I thinking of? \\n\")\n",
    "\n",
    "while exit != 1:\n",
    "    guess = ''\n",
    "    guessCount, guess, exit = userInput(number, guessCount)\n",
    "    if guess == 'exit':\n",
    "        break\n",
    "    if guess == number:\n",
    "        print(f\"You guessed it! It took you {guessCount} tries.\\n Let's play again! Type exit to quit.\\n\")\n",
    "        guessCount = 0\n",
    "        number = genRandom()\n",
    "    else:\n",
    "        print(\"Not quite! Try again.\\n\")\n",
    "        \n",
    "print(\"Thanks for playing!\")"
   ]
  },
  {
   "cell_type": "code",
   "execution_count": null,
   "id": "c508151c",
   "metadata": {},
   "outputs": [],
   "source": []
  },
  {
   "cell_type": "code",
   "execution_count": null,
   "id": "64b41c36",
   "metadata": {},
   "outputs": [],
   "source": []
  },
  {
   "cell_type": "code",
   "execution_count": null,
   "id": "a5d054b7",
   "metadata": {},
   "outputs": [],
   "source": []
  },
  {
   "cell_type": "code",
   "execution_count": null,
   "id": "02496eb9",
   "metadata": {},
   "outputs": [],
   "source": []
  }
 ],
 "metadata": {
  "kernelspec": {
   "display_name": "Python 3 (ipykernel)",
   "language": "python",
   "name": "python3"
  },
  "language_info": {
   "codemirror_mode": {
    "name": "ipython",
    "version": 3
   },
   "file_extension": ".py",
   "mimetype": "text/x-python",
   "name": "python",
   "nbconvert_exporter": "python",
   "pygments_lexer": "ipython3",
   "version": "3.9.13"
  }
 },
 "nbformat": 4,
 "nbformat_minor": 5
}
