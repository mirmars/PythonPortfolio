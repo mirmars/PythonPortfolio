{
 "cells": [
  {
   "cell_type": "markdown",
   "id": "898787c5",
   "metadata": {},
   "source": [
    "# Exercise 11"
   ]
  },
  {
   "cell_type": "markdown",
   "id": "6416abf0",
   "metadata": {},
   "source": [
    "https://www.practicepython.org/exercise/2014/04/16/11-check-primality-functions.html\n",
    "\n",
    "Ask the user for a number and determine whether the number is prime or not."
   ]
  },
  {
   "cell_type": "markdown",
   "id": "ad86d46f",
   "metadata": {},
   "source": [
    "\n"
   ]
  },
  {
   "cell_type": "code",
   "execution_count": 26,
   "id": "953471de",
   "metadata": {},
   "outputs": [],
   "source": [
    "def getInteger(): return int(input(\"What number would you like to check to see if it is prime?\\n\"))\n",
    "\n",
    "def testPrime(n):\n",
    "    notPrime = 0\n",
    "    if n < 2:\n",
    "        notPrime = 1 \n",
    "    for i in range(2,(round(n/2)+1)):\n",
    "        if n % i == 0:\n",
    "            print(n)\n",
    "            notPrime = 1\n",
    "            break\n",
    "    print(f\"{n} is prime!\\n\" if notPrime == 0 else f\"{n} is not prime.\\n\")"
   ]
  },
  {
   "cell_type": "code",
   "execution_count": 27,
   "id": "2cc205e0",
   "metadata": {},
   "outputs": [
    {
     "name": "stdout",
     "output_type": "stream",
     "text": [
      "What number would you like to check to see if it is prime?\n",
      "1\n",
      "1 is not prime.\n",
      "\n"
     ]
    }
   ],
   "source": [
    "testPrime(getInteger())"
   ]
  },
  {
   "cell_type": "code",
   "execution_count": 28,
   "id": "beb9f996",
   "metadata": {},
   "outputs": [
    {
     "name": "stdout",
     "output_type": "stream",
     "text": [
      "What number would you like to check to see if it is prime?\n",
      "2\n",
      "2 is prime!\n",
      "\n"
     ]
    }
   ],
   "source": [
    "testPrime(getInteger())"
   ]
  },
  {
   "cell_type": "code",
   "execution_count": 29,
   "id": "2c601198",
   "metadata": {},
   "outputs": [
    {
     "name": "stdout",
     "output_type": "stream",
     "text": [
      "What number would you like to check to see if it is prime?\n",
      "3\n",
      "3 is prime!\n",
      "\n"
     ]
    }
   ],
   "source": [
    "testPrime(getInteger())"
   ]
  },
  {
   "cell_type": "code",
   "execution_count": 30,
   "id": "2d6ba229",
   "metadata": {},
   "outputs": [
    {
     "name": "stdout",
     "output_type": "stream",
     "text": [
      "What number would you like to check to see if it is prime?\n",
      "4\n",
      "4\n",
      "4 is not prime.\n",
      "\n"
     ]
    }
   ],
   "source": [
    "testPrime(getInteger())"
   ]
  },
  {
   "cell_type": "code",
   "execution_count": null,
   "id": "b4568eb2",
   "metadata": {},
   "outputs": [],
   "source": []
  }
 ],
 "metadata": {
  "kernelspec": {
   "display_name": "Python 3 (ipykernel)",
   "language": "python",
   "name": "python3"
  },
  "language_info": {
   "codemirror_mode": {
    "name": "ipython",
    "version": 3
   },
   "file_extension": ".py",
   "mimetype": "text/x-python",
   "name": "python",
   "nbconvert_exporter": "python",
   "pygments_lexer": "ipython3",
   "version": "3.9.13"
  }
 },
 "nbformat": 4,
 "nbformat_minor": 5
}
