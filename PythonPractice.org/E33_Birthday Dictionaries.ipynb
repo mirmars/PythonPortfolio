{
 "cells": [
  {
   "cell_type": "markdown",
   "id": "056a487b",
   "metadata": {},
   "source": [
    "# Exercise 33"
   ]
  },
  {
   "cell_type": "markdown",
   "id": "e2e0d6ae",
   "metadata": {},
   "source": [
    "For this exercise, we will keep track of when our friend’s birthdays are, and be able to find that information based on their name. Create a dictionary (in your file) of names and birthdays. When you run your program it should ask the user to enter a name, and return the birthday of that person back to them."
   ]
  },
  {
   "cell_type": "markdown",
   "id": "31605f3e",
   "metadata": {},
   "source": [
    "# Exercise 34"
   ]
  },
  {
   "cell_type": "markdown",
   "id": "d051580d",
   "metadata": {},
   "source": [
    "In this exercise, modify your program from Part 1 to load the birthday dictionary from a JSON file on disk, rather than having the dictionary defined in the program.\n",
    "\n",
    "Bonus: Ask the user for another scientist’s name and birthday to add to the dictionary, and update the JSON file you have on disk with the scientist’s name. If you run the program multiple times and keep adding new names, your JSON file should keep getting bigger and bigger."
   ]
  },
  {
   "cell_type": "markdown",
   "id": "a90f8506",
   "metadata": {},
   "source": [
    "\n"
   ]
  },
  {
   "cell_type": "markdown",
   "id": "5e1619fe",
   "metadata": {},
   "source": [
    "# Exercise 35"
   ]
  },
  {
   "cell_type": "markdown",
   "id": "f373afd4",
   "metadata": {},
   "source": [
    "In this exercise, load that JSON file from disk, extract the months of all the birthdays, and count how many scientists have a birthday in each month."
   ]
  },
  {
   "cell_type": "markdown",
   "id": "405dff75",
   "metadata": {},
   "source": [
    "\n"
   ]
  },
  {
   "cell_type": "markdown",
   "id": "5eb93519",
   "metadata": {},
   "source": [
    "# Exercise 36"
   ]
  },
  {
   "cell_type": "markdown",
   "id": "d659b402",
   "metadata": {},
   "source": [
    "In this exercise, use the bokeh Python library to plot a histogram of which months the scientists have birthdays in! Because it would take a long time for you to input the months of various scientists, you can use my scientist birthday JSON file. Just parse out the months (if you don’t know how, I suggest looking at the previous exercise or its solution) and draw your histogram."
   ]
  },
  {
   "cell_type": "markdown",
   "id": "e019c328",
   "metadata": {},
   "source": [
    "\n"
   ]
  },
  {
   "cell_type": "code",
   "execution_count": 68,
   "id": "ca2f4d53",
   "metadata": {},
   "outputs": [],
   "source": [
    "import json\n",
    "from datetime import datetime\n",
    "import re\n",
    "from dateutil import parser\n",
    "from bokeh.plotting import figure, show\n",
    "\n",
    "bdayFile = \"birthday_file.json\"\n",
    "bDict = {\"name\":\"birthday\"}\n",
    "# {\"test\":\"01/01/2001\"}\n",
    "\n",
    "def openBdayDict(file):\n",
    "    with open(file,\"r\") as f:\n",
    "        bDict = json.load(f)\n",
    "    return bDict\n",
    "\n",
    " \n",
    "def validateInput(query, validOptions):\n",
    "    #checks the user's answer to a query against a list of expected input\n",
    "    #if answer does not match expectations, prompts user to try again\n",
    "    #valid options can be data types (i.e. str, datetime, etc.) or an RE string\n",
    "    valid = 0\n",
    "    toValid = input(query)\n",
    "    while valid == 0:\n",
    "        if type(validOptions) == str:\n",
    "            if re.match(validOptions,toValid.lower()): valid = 1\n",
    "        elif validOptions == str: valid = 1\n",
    "        elif validOptions == datetime:\n",
    "            try:\n",
    "                toValid = parser.parse(toValid)\n",
    "                toValid = datetime.strptime(toValid, \"%m-%d-%Y\")\n",
    "            except:\n",
    "                pass\n",
    "            if type(toValid) == datetime:\n",
    "                toValid = datetime.strftime(toValid,\"%m-%d-%Y\")\n",
    "                valid = 1   \n",
    "        else: valid = 0\n",
    "                \n",
    "        if valid == 0:\n",
    "            print(toValid)\n",
    "            toValid = input(f\"Whoops! I didn't understand that. Please try again: \")\n",
    "    return str(toValid)     \n",
    "    \n",
    "def lookupBday(file):\n",
    "    d = openBdayDict(bdayFile)\n",
    "    addName = validateInput(\"Whose birthday do you want to look up? \", str)\n",
    "    try: result = d[addName.lower()]\n",
    "    except: result = None\n",
    "    if result != None:\n",
    "        print(f\"{addName}'s birthday is on {d[addName.lower()]}.\")\n",
    "    else:\n",
    "        print(f\"{addName}'s birthday was not found.\")\n",
    "        \n",
    "def addNewBday(file):\n",
    "    bDict = openBdayDict(file)\n",
    "    name = validateInput(\"What scientist would you like to add a birthday for? \", str)\n",
    "    lName = name.lower()\n",
    "    birthday = validateInput(\"What is or was their birthday? \", datetime)\n",
    "    newBday = {lName:birthday}\n",
    "    bDict[lName] = birthday\n",
    "    with open(file,\"w\") as f:\n",
    "        json.dump(bDict,f)\n",
    "    print(f\"OK, {name}'s birthday has been added as {birthday}!\")\n",
    "    \n",
    "def countBirthdays(file):\n",
    "    bDict = openBdayDict(file)\n",
    "    monthCount = {'01':0,'02':0,'03':0,'04':0,'05':0,'06':0,'07':0,'08':0,'09':0,'10':0,'11':0,'12':0}\n",
    "    for i in bDict.values():\n",
    "        extractM = \"{:02d}\".format(int(i[:2]))\n",
    "        if extractM in monthCount:\n",
    "            monthCount[extractM] += 1\n",
    "        else:\n",
    "            monthCount[i] = '0'\n",
    "            monthCount[extractM] = 1\n",
    "    return monthCount\n",
    "\n",
    "def printBirthdayCount(func, file):\n",
    "    monthCount = countBirthdays(file)\n",
    "    print(f\"\"\"\n",
    "    Here is the count of birthdays in each month!\n",
    "    Jan: {monthCount['01']}\n",
    "    Feb: {monthCount['02']}\n",
    "    Mar: {monthCount['03']}\n",
    "    Apr: {monthCount['04']}\n",
    "    May: {monthCount['05']}\n",
    "    Jun: {monthCount['06']}\n",
    "    Jul: {monthCount['07']}\n",
    "    Aug: {monthCount['08']}\n",
    "    Sep: {monthCount['09']}\n",
    "    Oct: {monthCount['10']}\n",
    "    Nov: {monthCount['11']}\n",
    "    Dec: {monthCount['12']}\n",
    "    \"\"\")\n",
    "    \n",
    "def makeBirthdayChart (axisDict):\n",
    "    xList = []    \n",
    "    for i in axisDict.keys(): #convert our dictionary keys to %b months\n",
    "        strDate = parser.parse(str(i+'/01/2011'))\n",
    "        xList.append(datetime.strftime(strDate,\"%b\"))\n",
    "    yList = list(axisDict.values())\n",
    "    p = figure(title='Birthdays of Scientists', \n",
    "               x_range = xList,\n",
    "               x_axis_label = 'Month', \n",
    "               y_axis_label = 'Count')\n",
    "    p.vbar(x=xList, top=yList, width=0.9, bottom=0)\n",
    "    show(p)"
   ]
  },
  {
   "cell_type": "code",
   "execution_count": 317,
   "id": "df67e162",
   "metadata": {
    "scrolled": true
   },
   "outputs": [
    {
     "name": "stdout",
     "output_type": "stream",
     "text": [
      "Whose birthday do you want to look up? Albert Einstein\n",
      "Albert Einstein's birthday is on 03-14-1879.\n"
     ]
    }
   ],
   "source": [
    "lookupBday(bdayFile)"
   ]
  },
  {
   "cell_type": "code",
   "execution_count": 320,
   "id": "09f70fb8",
   "metadata": {},
   "outputs": [
    {
     "name": "stdout",
     "output_type": "stream",
     "text": [
      "What scientist would you like to add a birthday for? Benjamin Franklin\n",
      "What is or was their birthday? 01-17-1706\n",
      "OK, Benjamin Franklin's birthday has been added as 01-17-1706!\n"
     ]
    }
   ],
   "source": [
    "addNewBday(bdayFile)"
   ]
  },
  {
   "cell_type": "code",
   "execution_count": 310,
   "id": "e779fd7b",
   "metadata": {},
   "outputs": [
    {
     "name": "stdout",
     "output_type": "stream",
     "text": [
      "\n",
      "    Here is the count of birthdays in each month!\n",
      "    Jan: 1\n",
      "    Feb: 0\n",
      "    Mar: 1\n",
      "    Apr: 0\n",
      "    May: 0\n",
      "    Jun: 0\n",
      "    Jul: 0\n",
      "    Aug: 0\n",
      "    Sep: 0\n",
      "    Oct: 0\n",
      "    Nov: 0\n",
      "    Dec: 1\n",
      "    \n"
     ]
    }
   ],
   "source": [
    "printBirthdayCount(countBirthdays, bdayFile)"
   ]
  },
  {
   "cell_type": "code",
   "execution_count": 69,
   "id": "398670e1",
   "metadata": {},
   "outputs": [],
   "source": [
    "makeBirthdayChart(countBirthdays(bdayFile))"
   ]
  },
  {
   "cell_type": "code",
   "execution_count": null,
   "id": "aba1aa02",
   "metadata": {},
   "outputs": [],
   "source": []
  },
  {
   "cell_type": "code",
   "execution_count": null,
   "id": "89114079",
   "metadata": {},
   "outputs": [],
   "source": []
  },
  {
   "cell_type": "code",
   "execution_count": null,
   "id": "586a7e4e",
   "metadata": {},
   "outputs": [],
   "source": []
  }
 ],
 "metadata": {
  "kernelspec": {
   "display_name": "Python 3 (ipykernel)",
   "language": "python",
   "name": "python3"
  },
  "language_info": {
   "codemirror_mode": {
    "name": "ipython",
    "version": 3
   },
   "file_extension": ".py",
   "mimetype": "text/x-python",
   "name": "python",
   "nbconvert_exporter": "python",
   "pygments_lexer": "ipython3",
   "version": "3.9.13"
  }
 },
 "nbformat": 4,
 "nbformat_minor": 5
}
