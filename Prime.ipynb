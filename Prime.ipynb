{
 "cells": [
  {
   "cell_type": "code",
   "execution_count": 50,
   "id": "9e4ba9b8",
   "metadata": {},
   "outputs": [],
   "source": [
    "n = 0\n",
    "testNum = 0"
   ]
  },
  {
   "cell_type": "code",
   "execution_count": 69,
   "id": "953471de",
   "metadata": {},
   "outputs": [
    {
     "ename": "SyntaxError",
     "evalue": "invalid syntax (1545737389.py, line 5)",
     "output_type": "error",
     "traceback": [
      "\u001b[1;36m  File \u001b[1;32m\"C:\\Users\\sunne\\AppData\\Local\\Temp\\ipykernel_20200\\1545737389.py\"\u001b[1;36m, line \u001b[1;32m5\u001b[0m\n\u001b[1;33m    notPrime = 1 if n < 2\u001b[0m\n\u001b[1;37m                         ^\u001b[0m\n\u001b[1;31mSyntaxError\u001b[0m\u001b[1;31m:\u001b[0m invalid syntax\n"
     ]
    }
   ],
   "source": [
    "def getInteger(): return int(input(\"What number would you like to check to see if it is prime?\\n\"))\n",
    "\n",
    "def testPrime(n):\n",
    "    notPrime = 0\n",
    "    notPrime = 1 if n < 2\n",
    "    for i in range(2,round(n/2)):\n",
    "        if n % i == 0:\n",
    "            notPrime = 1\n",
    "            break\n",
    "    print(f\"{n} is prime!\\n\" if notPrime == 0 else f\"{n} is not prime.\\n\")"
   ]
  },
  {
   "cell_type": "code",
   "execution_count": 65,
   "id": "2cc205e0",
   "metadata": {},
   "outputs": [
    {
     "name": "stdout",
     "output_type": "stream",
     "text": [
      "What number would you like to check to see if it is prime?\n",
      "5\n",
      "5 is prime!\n",
      "\n"
     ]
    }
   ],
   "source": [
    "testNum = getInteger()\n",
    "testPrime(testNum)"
   ]
  },
  {
   "cell_type": "code",
   "execution_count": null,
   "id": "beb9f996",
   "metadata": {},
   "outputs": [],
   "source": []
  }
 ],
 "metadata": {
  "kernelspec": {
   "display_name": "Python 3 (ipykernel)",
   "language": "python",
   "name": "python3"
  },
  "language_info": {
   "codemirror_mode": {
    "name": "ipython",
    "version": 3
   },
   "file_extension": ".py",
   "mimetype": "text/x-python",
   "name": "python",
   "nbconvert_exporter": "python",
   "pygments_lexer": "ipython3",
   "version": "3.9.13"
  }
 },
 "nbformat": 4,
 "nbformat_minor": 5
}
