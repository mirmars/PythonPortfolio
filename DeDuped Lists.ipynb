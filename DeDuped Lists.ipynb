{
 "cells": [
  {
   "cell_type": "code",
   "execution_count": 37,
   "id": "3d3789fb",
   "metadata": {},
   "outputs": [],
   "source": [
    "#https://www.practicepython.org/exercise/2014/05/15/14-list-remove-duplicates.html\n",
    "\n",
    "#Write a program (function!) that takes a list and returns a new list that contains all the elements of the first list minus all the duplicates.\n",
    "\n",
    "#Extras:\n",
    "#Write two different functions to do this - one using a loop and constructing a list, and another using sets.\n",
    "#Go back and do Exercise 5 using sets, and write the solution for that in a different function.\n",
    "\n",
    "import random"
   ]
  },
  {
   "cell_type": "code",
   "execution_count": 54,
   "id": "383ff05d",
   "metadata": {},
   "outputs": [],
   "source": [
    "def constructList(n):\n",
    "    #where n is the number of random variables to generate\n",
    "    lst = []\n",
    "    for i in range(0,n):\n",
    "        lst.append(random.randrange(1,10,1))\n",
    "    return lst\n",
    "\n",
    "def removeDupeLoop(l1, l2):\n",
    "    found = []\n",
    "    for i in l1:\n",
    "        if i in l2 and i not in found:\n",
    "                found.append(i)\n",
    "    return found\n",
    "\n",
    "def removeDupeSet(l1, l2): return set([i for i in l1 if i in l2])"
   ]
  },
  {
   "cell_type": "code",
   "execution_count": 39,
   "id": "27e7601d",
   "metadata": {},
   "outputs": [
    {
     "name": "stdout",
     "output_type": "stream",
     "text": [
      "[8, 9, 2, 4, 4, 8, 3, 6, 5, 8]\n",
      "[6, 9, 7, 8, 1, 8, 8, 6, 2, 6]\n",
      "[8, 9, 2, 6]\n"
     ]
    }
   ],
   "source": [
    "list1 = constructList(10)\n",
    "list2 = constructList(10)\n",
    "\n",
    "print(list1)\n",
    "print(list2)\n",
    "\n",
    "print(removeDupeLoop(list1, list2))"
   ]
  },
  {
   "cell_type": "code",
   "execution_count": 56,
   "id": "e0048861",
   "metadata": {},
   "outputs": [
    {
     "name": "stdout",
     "output_type": "stream",
     "text": [
      "{8, 9, 2, 6}\n"
     ]
    }
   ],
   "source": [
    "print(removeDupeSet(list1, list2))"
   ]
  },
  {
   "cell_type": "code",
   "execution_count": null,
   "id": "6c429ac5",
   "metadata": {},
   "outputs": [],
   "source": []
  }
 ],
 "metadata": {
  "kernelspec": {
   "display_name": "Python 3 (ipykernel)",
   "language": "python",
   "name": "python3"
  },
  "language_info": {
   "codemirror_mode": {
    "name": "ipython",
    "version": 3
   },
   "file_extension": ".py",
   "mimetype": "text/x-python",
   "name": "python",
   "nbconvert_exporter": "python",
   "pygments_lexer": "ipython3",
   "version": "3.9.13"
  }
 },
 "nbformat": 4,
 "nbformat_minor": 5
}
