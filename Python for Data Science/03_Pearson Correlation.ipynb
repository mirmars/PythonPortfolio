{
 "cells": [
  {
   "cell_type": "markdown",
   "id": "749226d6",
   "metadata": {},
   "source": [
    "# Pearson Correlation"
   ]
  },
  {
   "cell_type": "markdown",
   "id": "f45b6b13",
   "metadata": {},
   "source": [
    "This demonstrates a few methods of determining correlation via Pearson Correlation."
   ]
  },
  {
   "cell_type": "markdown",
   "id": "40ded54e",
   "metadata": {},
   "source": [
    "\n"
   ]
  },
  {
   "cell_type": "code",
   "execution_count": 8,
   "id": "f8c2bf3f",
   "metadata": {},
   "outputs": [],
   "source": [
    "#Libraries and Modules\n",
    "import numpy as np\n",
    "import pandas as pd\n",
    "from pandas import Series, DataFrame\n",
    "\n",
    "import matplotlib.pyplot as plt\n",
    "import seaborn as sb\n",
    "from pylab import rcParams\n",
    "\n",
    "import scipy\n",
    "from scipy.stats import pearsonr\n",
    "\n",
    "%matplotlib inline"
   ]
  },
  {
   "cell_type": "code",
   "execution_count": 9,
   "id": "9c1c35e3",
   "metadata": {},
   "outputs": [],
   "source": [
    "#Figure Settings\n",
    "\n",
    "rcParams[\"figure.figsize\"] = 8,4\n",
    "plt.style.use('seaborn-whitegrid')"
   ]
  },
  {
   "cell_type": "code",
   "execution_count": 59,
   "id": "af6e57fc",
   "metadata": {
    "scrolled": false
   },
   "outputs": [],
   "source": [
    "#Loading Data\n",
    "\n",
    "address = \"./mtcars.csv\"\n",
    "\n",
    "cars = pd.read_csv(address)\n",
    "\n",
    "#Replacing first \"Unnamed\" column name without manually writing each column name out\n",
    "columns = list(cars.columns)\n",
    "columns[0] = \"car_names\"\n",
    "cars.columns = columns"
   ]
  },
  {
   "cell_type": "markdown",
   "id": "b37150b8",
   "metadata": {},
   "source": [
    "\n"
   ]
  },
  {
   "cell_type": "markdown",
   "id": "8580e4ab",
   "metadata": {},
   "source": [
    "### Using scipy to calculate one pair at a time"
   ]
  },
  {
   "cell_type": "code",
   "execution_count": 42,
   "id": "43357be7",
   "metadata": {},
   "outputs": [
    {
     "name": "stdout",
     "output_type": "stream",
     "text": [
      "PearsonR Correlation Coefficient: -0.776\n",
      "PearsonR Correlation Coefficient: 0.419\n",
      "PearsonR Correlation Coefficient: -0.868\n"
     ]
    }
   ],
   "source": [
    "mpg = cars['mpg']\n",
    "hp = cars['hp']\n",
    "\n",
    "pr_coefficient, p_value = pearsonr(mpg, hp)\n",
    "print(f\"PearsonR Correlation Coefficient: {round(pr_coefficient,3)}\")\n",
    "\n",
    "pr_coefficient, p_value = pearsonr(mpg, qsec)\n",
    "print(f\"PearsonR Correlation Coefficient: {round(pr_coefficient,3)}\")\n",
    "\n",
    "pr_coefficient, p_value = pearsonr(mpg, wt)\n",
    "print(f\"PearsonR Correlation Coefficient: {round(pr_coefficient,3)}\")"
   ]
  },
  {
   "cell_type": "markdown",
   "id": "a335ebdd",
   "metadata": {},
   "source": [
    "\n"
   ]
  },
  {
   "cell_type": "markdown",
   "id": "0ce0eeed",
   "metadata": {},
   "source": [
    "### Using pandas to calculate all as one group"
   ]
  },
  {
   "cell_type": "code",
   "execution_count": 57,
   "id": "609489b7",
   "metadata": {},
   "outputs": [
    {
     "data": {
      "text/html": [
       "<div>\n",
       "<style scoped>\n",
       "    .dataframe tbody tr th:only-of-type {\n",
       "        vertical-align: middle;\n",
       "    }\n",
       "\n",
       "    .dataframe tbody tr th {\n",
       "        vertical-align: top;\n",
       "    }\n",
       "\n",
       "    .dataframe thead th {\n",
       "        text-align: right;\n",
       "    }\n",
       "</style>\n",
       "<table border=\"1\" class=\"dataframe\">\n",
       "  <thead>\n",
       "    <tr style=\"text-align: right;\">\n",
       "      <th></th>\n",
       "      <th>mpg</th>\n",
       "      <th>hp</th>\n",
       "      <th>qsec</th>\n",
       "      <th>wt</th>\n",
       "    </tr>\n",
       "  </thead>\n",
       "  <tbody>\n",
       "    <tr>\n",
       "      <th>mpg</th>\n",
       "      <td>1.000000</td>\n",
       "      <td>-0.776168</td>\n",
       "      <td>0.418684</td>\n",
       "      <td>-0.867659</td>\n",
       "    </tr>\n",
       "    <tr>\n",
       "      <th>hp</th>\n",
       "      <td>-0.776168</td>\n",
       "      <td>1.000000</td>\n",
       "      <td>-0.708223</td>\n",
       "      <td>0.658748</td>\n",
       "    </tr>\n",
       "    <tr>\n",
       "      <th>qsec</th>\n",
       "      <td>0.418684</td>\n",
       "      <td>-0.708223</td>\n",
       "      <td>1.000000</td>\n",
       "      <td>-0.174716</td>\n",
       "    </tr>\n",
       "    <tr>\n",
       "      <th>wt</th>\n",
       "      <td>-0.867659</td>\n",
       "      <td>0.658748</td>\n",
       "      <td>-0.174716</td>\n",
       "      <td>1.000000</td>\n",
       "    </tr>\n",
       "  </tbody>\n",
       "</table>\n",
       "</div>"
      ],
      "text/plain": [
       "           mpg        hp      qsec        wt\n",
       "mpg   1.000000 -0.776168  0.418684 -0.867659\n",
       "hp   -0.776168  1.000000 -0.708223  0.658748\n",
       "qsec  0.418684 -0.708223  1.000000 -0.174716\n",
       "wt   -0.867659  0.658748 -0.174716  1.000000"
      ]
     },
     "execution_count": 57,
     "metadata": {},
     "output_type": "execute_result"
    }
   ],
   "source": [
    "corr = DataFrame(x).corr()\n",
    "corr"
   ]
  },
  {
   "cell_type": "markdown",
   "id": "cd3993b7",
   "metadata": {},
   "source": [
    "\n"
   ]
  },
  {
   "cell_type": "markdown",
   "id": "f722313e",
   "metadata": {},
   "source": [
    "### Using seaborn to create a heat map"
   ]
  },
  {
   "cell_type": "code",
   "execution_count": 58,
   "id": "8b5e0ff3",
   "metadata": {},
   "outputs": [
    {
     "data": {
      "text/plain": [
       "<AxesSubplot:>"
      ]
     },
     "execution_count": 58,
     "metadata": {},
     "output_type": "execute_result"
    },
    {
     "data": {
      "image/png": "[encoded data removed]",
      "text/plain": [
       "<Figure size 800x400 with 2 Axes>"
      ]
     },
     "metadata": {},
     "output_type": "display_data"
    }
   ],
   "source": [
    "sb.heatmap(corr, xticklabels=corr.columns.values, yticklabels = corr.columns.values)"
   ]
  },
  {
   "cell_type": "code",
   "execution_count": null,
   "id": "4a12bcae",
   "metadata": {},
   "outputs": [],
   "source": []
  }
 ],
 "metadata": {
  "kernelspec": {
   "display_name": "Python 3 (ipykernel)",
   "language": "python",
   "name": "python3"
  },
  "language_info": {
   "codemirror_mode": {
    "name": "ipython",
    "version": 3
   },
   "file_extension": ".py",
   "mimetype": "text/x-python",
   "name": "python",
   "nbconvert_exporter": "python",
   "pygments_lexer": "ipython3",
   "version": "3.9.13"
  }
 },
 "nbformat": 4,
 "nbformat_minor": 5
}
