{
 "cells": [
  {
   "cell_type": "markdown",
   "id": "a7b03381",
   "metadata": {},
   "source": [
    "# Exercise 23"
   ]
  },
  {
   "cell_type": "markdown",
   "id": "1f29fb50",
   "metadata": {},
   "source": [
    "Given two .txt files that have lists of numbers in them, find the numbers that are overlapping. One .txt file has a list of all prime numbers under 1000, and the other .txt file has a list of happy numbers up to 1000."
   ]
  },
  {
   "cell_type": "markdown",
   "id": "fb72b7ef",
   "metadata": {},
   "source": [
    "\n",
    "\n"
   ]
  },
  {
   "cell_type": "code",
   "execution_count": 65,
   "id": "ad17aaec",
   "metadata": {},
   "outputs": [],
   "source": [
    "f1 = 'primenumbers.txt'\n",
    "f2 = 'happynumbers.txt'\n",
    "overlapList = []\n",
    "\n",
    "def fileToList(filename):\n",
    "    fileList = []\n",
    "    with open(filename,'r') as f:\n",
    "        for line in f:\n",
    "            fileList.append(int(line.strip()))\n",
    "    return fileList\n",
    "\n",
    "primeList = fileToList(f1)happyList = fileToList(f2)\n",
    "\n",
    "overlapList = [i for i in primeList if i in happyList]"
   ]
  },
  {
   "cell_type": "code",
   "execution_count": 67,
   "id": "25cbe88c",
   "metadata": {
    "scrolled": true
   },
   "outputs": [
    {
     "name": "stdout",
     "output_type": "stream",
     "text": [
      "[7, 13, 19, 23, 31, 79, 97, 103, 109, 139, 167, 193, 239, 263, 293, 313, 331, 367, 379, 383, 397, 409, 487, 563, 617, 653, 673, 683, 709, 739, 761, 863, 881, 907, 937]\n"
     ]
    }
   ],
   "source": [
    "print(overlapList)"
   ]
  },
  {
   "cell_type": "code",
   "execution_count": null,
   "id": "1d7b92a9",
   "metadata": {},
   "outputs": [],
   "source": []
  }
 ],
 "metadata": {
  "kernelspec": {
   "display_name": "Python 3 (ipykernel)",
   "language": "python",
   "name": "python3"
  },
  "language_info": {
   "codemirror_mode": {
    "name": "ipython",
    "version": 3
   },
   "file_extension": ".py",
   "mimetype": "text/x-python",
   "name": "python",
   "nbconvert_exporter": "python",
   "pygments_lexer": "ipython3",
   "version": "3.9.13"
  }
 },
 "nbformat": 4,
 "nbformat_minor": 5
}
