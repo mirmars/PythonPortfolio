{
 "cells": [
  {
   "cell_type": "code",
   "execution_count": 1,
   "id": "3bf3f939",
   "metadata": {},
   "outputs": [],
   "source": [
    "#https://www.practicepython.org/exercise/2014/03/26/08-rock-paper-scissors.html\n",
    "\n",
    "#Make a two-player Rock-Paper-Scissors game. (Hint: Ask for player plays (using input), compare them, print out a message of congratulations to the winner, and ask if the players want to start a new game)"
   ]
  },
  {
   "cell_type": "code",
   "execution_count": 2,
   "id": "11108ce1",
   "metadata": {},
   "outputs": [],
   "source": [
    "import random\n",
    "\n",
    "playAgain = ''\n",
    "activePlayer = 0\n",
    "numPlayers = 2\n",
    "moveDict = {}\n",
    "moves = {'move': 'beats',\n",
    "         'rock': 'scissors',\n",
    "         'scissors': 'paper',\n",
    "         'paper': 'rock'}"
   ]
  },
  {
   "cell_type": "code",
   "execution_count": 3,
   "id": "db82d591",
   "metadata": {},
   "outputs": [],
   "source": [
    "def pickFirstPlayer(p, n):\n",
    "    #p = activePlayer variable\n",
    "    #n = number of players\n",
    "    firstPlayer = random.randrange(1,n+1,1)\n",
    "    p = firstPlayer\n",
    "    if firstPlayer == 1:\n",
    "        print(f\"Player {firstPlayer} goes first!\")\n",
    "    else:\n",
    "        print(f\"Player {firstPlayer} goes first!\")\n",
    "    return p\n",
    "\n",
    "def playerMove (p, mD):\n",
    "    move = input(f\"Player {p}! Rock, paper, or scissors?: \")\n",
    "    mD[p] = move\n",
    "    p = p + 1\n",
    "    if p > numPlayers:\n",
    "        p = 1\n",
    "    return p, mD\n",
    "\n",
    "def findWinner (p, mD):\n",
    "    inp = ''\n",
    "    if len(mD) == numPlayers:\n",
    "        print(\"Let's see who won! \\n\")\n",
    "        if mD[1] == mD[2]:\n",
    "            print(\"It's a tie!\")\n",
    "        elif mD[2] == moves[mD[1]]:\n",
    "            print(\"Player 1 wins!\\n\")\n",
    "        else:\n",
    "            print(\"Player 2 wins!\\n\")\n",
    "        mD = {}\n",
    "        while inp not in ['yes', 'no']:\n",
    "            inp = (input(\"Do you want to play again?: \"))\n",
    "            if inp not in ['yes', 'no']:\n",
    "                print(\"I didn't understand that! Answer yes or no.\\n\")\n",
    "        return inp, mD\n",
    "            \n",
    "    return p, mD"
   ]
  },
  {
   "cell_type": "code",
   "execution_count": 4,
   "id": "93501020",
   "metadata": {},
   "outputs": [
    {
     "name": "stdout",
     "output_type": "stream",
     "text": [
      "Player 1 goes first!\n",
      "Player 1! Rock, paper, or scissors?: rock\n",
      "Player 2! Rock, paper, or scissors?: paper\n",
      "Let's see who won! \n",
      "\n",
      "Player 2 wins!\n",
      "\n",
      "Do you want to play again?: yes\n",
      "Player 2 goes first!\n",
      "Player 2! Rock, paper, or scissors?: paper\n",
      "Player 1! Rock, paper, or scissors?: paper\n",
      "Let's see who won! \n",
      "\n",
      "It's a tie!\n",
      "Do you want to play again?: no\n",
      "Game over!\n"
     ]
    }
   ],
   "source": [
    "while playAgain != 'no':\n",
    "    if len(moveDict) < 1:\n",
    "        activePlayer = pickFirstPlayer(activePlayer, numPlayers)\n",
    "    activePlayer, moveDict = playerMove(activePlayer, moveDict)\n",
    "    playAgain, moveDict = findWinner(activePlayer, moveDict)\n",
    "\n",
    "print(\"Game over!\")"
   ]
  },
  {
   "cell_type": "code",
   "execution_count": null,
   "id": "5d9d8539",
   "metadata": {},
   "outputs": [],
   "source": []
  }
 ],
 "metadata": {
  "kernelspec": {
   "display_name": "Python 3 (ipykernel)",
   "language": "python",
   "name": "python3"
  },
  "language_info": {
   "codemirror_mode": {
    "name": "ipython",
    "version": 3
   },
   "file_extension": ".py",
   "mimetype": "text/x-python",
   "name": "python",
   "nbconvert_exporter": "python",
   "pygments_lexer": "ipython3",
   "version": "3.9.13"
  }
 },
 "nbformat": 4,
 "nbformat_minor": 5
}
