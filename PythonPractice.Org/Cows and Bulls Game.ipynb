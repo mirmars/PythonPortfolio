{
 "cells": [
  {
   "cell_type": "code",
   "execution_count": null,
   "id": "76801645",
   "metadata": {},
   "outputs": [],
   "source": [
    "#https://www.practicepython.org/exercise/2014/07/05/18-cows-and-bulls.html\n",
    "\n",
    "#Create a program that will play the “cows and bulls” game with the user. The game works like this:\n",
    "#Randomly generate a 4-digit number. Ask the user to guess a 4-digit number. For every digit that the user guessed correctly in the correct place, they have a “cow”. For every digit the user guessed correctly in the wrong place is a “bull.” Every time the user makes a guess, tell them how many “cows” and “bulls” they have. Once the user guesses the correct number, the game is over. Keep track of the number of guesses the user makes throughout teh game and tell the user at the end."
   ]
  },
  {
   "cell_type": "code",
   "execution_count": 106,
   "id": "ee30e641",
   "metadata": {},
   "outputs": [],
   "source": [
    "import random\n",
    "import time\n",
    "import re\n",
    "\n",
    "quitWords = ['no', 'quit', 'exit']"
   ]
  },
  {
   "cell_type": "code",
   "execution_count": 159,
   "id": "3585a3b4",
   "metadata": {},
   "outputs": [],
   "source": [
    "def main():\n",
    "    play = 1\n",
    "    while play == 1:\n",
    "        print(\"Let's play Cows and Bulls! First, let me think of a number....\\n\")\n",
    "        time.sleep(0.3)\n",
    "        number = genNumber()\n",
    "        print(\"Okay, I have a four digit number!\\n\")\n",
    "        guessing = 1\n",
    "        guessCount = 0\n",
    "        while guessing == 1:\n",
    "            guess = input(\"Guess a four digit number: \")\n",
    "            if checkQuit(guess) == 0:\n",
    "                    play = 0\n",
    "                    break\n",
    "            while len(guess) != 4 or checkInt(guess) != None:\n",
    "                guess = input(\"Oops! Try a four digit number instead: \")\n",
    "                if checkQuit(guess) == 0:\n",
    "                    break\n",
    "            if checkQuit(guess) == 0:\n",
    "                    play = 0\n",
    "                    break\n",
    "            guessCount = guessCount + 1\n",
    "            cows = compareGuess(guess, number)\n",
    "            if cows == 4:\n",
    "                guessing = 0\n",
    "                print(f\"Congratulations! You got it in {guessCount} guesses! \\n\")\n",
    "                play = playAgain()   \n",
    "            else:\n",
    "                print(f\"{cows} {'cow' if cows==1 else 'cows'}, {4-cows} {'bull' if cows==3 else 'bulls'}\")\n",
    "        print(\"Thanks for playing! Goodbye!\")\n",
    "\n",
    "def genNumber():\n",
    "    number = ''\n",
    "    for i in range(0,4):\n",
    "        number = number + str(random.randrange(0,9,1))\n",
    "    return number\n",
    "\n",
    "def checkInt(str):\n",
    "    #returns None if all characters are numbers\n",
    "    return re.search(\"[^0-9]\",str)\n",
    "        \n",
    "def compareGuess(guess, number):\n",
    "    cowCount = 0\n",
    "    g = guess\n",
    "    n = number\n",
    "    step = 0\n",
    "    for i in g:\n",
    "        if i == n[step]:\n",
    "            cowCount = cowCount+1\n",
    "        step = step + 1\n",
    "    return cowCount\n",
    "\n",
    "def checkQuit(inp): \n",
    "    #takes an input and outputs 0 if quit, 1 if continue\n",
    "    if inp in quitWords:\n",
    "        return 0\n",
    "    else:\n",
    "        return 1\n",
    "\n",
    "def playAgain():\n",
    "    playAgain = ''\n",
    "    while playAgain != 'yes':\n",
    "        playAgain = input(\"Do you want to play again? \")\n",
    "        if playAgain == 'yes':\n",
    "            play = 1\n",
    "            break\n",
    "        elif checkQuit(playAgain) == 0:\n",
    "            play = 0\n",
    "            break\n",
    "        else: \n",
    "            print(\"Whoops, I didn't understand that! Answer yes or no.\\n\")\n",
    "    return play"
   ]
  },
  {
   "cell_type": "code",
   "execution_count": 145,
   "id": "84e87533",
   "metadata": {
    "scrolled": false
   },
   "outputs": [
    {
     "name": "stdout",
     "output_type": "stream",
     "text": [
      "Let's play Cows and Bulls! First, let me think of a number....\n",
      "\n",
      "Okay, I have a four digit number!\n",
      "\n",
      "Guess a four digit number: nnnn\n",
      "Oops! Try a four digit number instead: 1\n",
      "Oops! Try a four digit number instead: 1111\n",
      "0 cows, 4 bulls\n",
      "Guess a four digit number: 2222\n",
      "0 cows, 4 bulls\n",
      "Guess a four digit number: 3333\n",
      "2 cows, 2 bulls\n",
      "Guess a four digit number: 3344\n",
      "2 cows, 2 bulls\n",
      "Guess a four digit number: 3355\n",
      "2 cows, 2 bulls\n",
      "Guess a four digit number: 3366\n",
      "3 cows, 1 bull\n",
      "Guess a four digit number: 3367\n",
      "2 cows, 2 bulls\n",
      "Guess a four digit number: 3376\n",
      "Congratulations! You got it in 8 guesses! \n",
      "\n",
      "Do you want to play again? no\n",
      "Thanks for playing! Goodbye!\n"
     ]
    }
   ],
   "source": [
    "main()"
   ]
  },
  {
   "cell_type": "code",
   "execution_count": 162,
   "id": "2ab50581",
   "metadata": {},
   "outputs": [
    {
     "name": "stdout",
     "output_type": "stream",
     "text": [
      "Let's play Cows and Bulls! First, let me think of a number....\n",
      "\n",
      "Okay, I have a four digit number!\n",
      "\n",
      "Guess a four digit number: exit\n",
      "Thanks for playing! Goodbye!\n"
     ]
    }
   ],
   "source": [
    "main()"
   ]
  },
  {
   "cell_type": "code",
   "execution_count": null,
   "id": "a42c4996",
   "metadata": {},
   "outputs": [],
   "source": []
  }
 ],
 "metadata": {
  "kernelspec": {
   "display_name": "Python 3 (ipykernel)",
   "language": "python",
   "name": "python3"
  },
  "language_info": {
   "codemirror_mode": {
    "name": "ipython",
    "version": 3
   },
   "file_extension": ".py",
   "mimetype": "text/x-python",
   "name": "python",
   "nbconvert_exporter": "python",
   "pygments_lexer": "ipython3",
   "version": "3.9.13"
  }
 },
 "nbformat": 4,
 "nbformat_minor": 5
}
