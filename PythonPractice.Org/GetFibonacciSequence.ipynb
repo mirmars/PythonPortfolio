{
 "cells": [
  {
   "cell_type": "code",
   "execution_count": 7,
   "id": "9e374020",
   "metadata": {},
   "outputs": [
    {
     "name": "stdout",
     "output_type": "stream",
     "text": [
      "How many Fibonacci numbers do you want? 5\n"
     ]
    }
   ],
   "source": [
    "userNum = int(input(\"How many Fibonacci numbers do you want? \"))"
   ]
  },
  {
   "cell_type": "code",
   "execution_count": 56,
   "id": "edeeb67c",
   "metadata": {},
   "outputs": [],
   "source": [
    "def makeFibo(n):\n",
    "    addNum = int(1)\n",
    "    fibo = [0]\n",
    "    for i in range(1,n):\n",
    "        fibo.append(addNum)\n",
    "        addNum = addNum + sum(fibo[-2:-1])\n",
    "        print(fibo)\n",
    "    return fibo"
   ]
  },
  {
   "cell_type": "code",
   "execution_count": 57,
   "id": "3a7b1c0f",
   "metadata": {},
   "outputs": [
    {
     "name": "stdout",
     "output_type": "stream",
     "text": [
      "[0, 1]\n",
      "[0, 1, 1]\n",
      "[0, 1, 1, 2]\n",
      "[0, 1, 1, 2, 3]\n",
      "[0, 1, 1, 2, 3]\n"
     ]
    }
   ],
   "source": [
    "print(makeFibo(userNum))"
   ]
  },
  {
   "cell_type": "code",
   "execution_count": null,
   "id": "251be09d",
   "metadata": {},
   "outputs": [],
   "source": []
  }
 ],
 "metadata": {
  "kernelspec": {
   "display_name": "Python 3 (ipykernel)",
   "language": "python",
   "name": "python3"
  },
  "language_info": {
   "codemirror_mode": {
    "name": "ipython",
    "version": 3
   },
   "file_extension": ".py",
   "mimetype": "text/x-python",
   "name": "python",
   "nbconvert_exporter": "python",
   "pygments_lexer": "ipython3",
   "version": "3.9.13"
  }
 },
 "nbformat": 4,
 "nbformat_minor": 5
}
