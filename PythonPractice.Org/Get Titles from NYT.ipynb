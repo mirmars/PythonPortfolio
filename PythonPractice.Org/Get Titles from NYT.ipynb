{
 "cells": [
  {
   "cell_type": "code",
   "execution_count": 112,
   "id": "83df9e3d",
   "metadata": {},
   "outputs": [],
   "source": [
    "#https://www.practicepython.org/exercise/2014/06/06/17-decode-a-web-page.html\n",
    "\n",
    "#Use the BeautifulSoup and requests Python packages to print out a list of all the article titles on the New York Times homepage.\n",
    "\n",
    "#MirMars: The NYT webpage has changed since the reported solution on the exercise page was crafted! It no longer uses a neat story-heading class, and in fact uses many classes for its article titles. I was able to get most of the titles using the following code while parsing out author names that it also picked up, but this could be improved with more time investment to fine-tune for outliers (for example, there's currently one article that uses an h2 instead of an h3, so creating multiple Title variables could pick up additional lines.)\n",
    "\n",
    "from bs4 import BeautifulSoup\n",
    "import requests\n",
    "\n",
    "url = 'https://www.nytimes.com/'\n",
    "r = requests.get(url)\n",
    "r_html = r.text\n",
    "\n",
    "soup = BeautifulSoup(r_html)\n",
    "\n",
    "h3Title = soup.find_all(\"h3\")\n",
    "h3TitleAuthor = soup.find_all(\"h3\", {\"class\":\"css-1hgbvll\"})"
   ]
  },
  {
   "cell_type": "code",
   "execution_count": 113,
   "id": "2a62ae7c",
   "metadata": {
    "scrolled": true
   },
   "outputs": [
    {
     "name": "stdout",
     "output_type": "stream",
     "text": [
      "To Tap Federal Funds, Chip Makers Will Need to Provide Child Care\n",
      "Biden’s Semiconductor Plan Asserts the Power of Federal Government\n",
      "Advertisement\n",
      "Murdoch Acknowledges Fox News Hosts Endorsed Election Fraud Lie\n",
      "Britain and E.U. Agree on Northern Ireland Trade Deal\n",
      "Here’s what’s at stake in the U.K.-E.U. deal over Northern Ireland’s trade status.\n",
      "Yellen Visits Kyiv, Reaffirming U.S. Support for Ukraine\n",
      "Russia’s New Offensive Sends Conscripts Into the Teeth of Ukraine’s Lines\n",
      "On a visit to former Soviet republics, Secretary of State Antony Blinken will urge distance from Russia.\n",
      "Plan to Cancel $400 Billion in Student Debt Goes to Supreme Court\n",
      "Supreme Court to Take Up Case on Fate of Consumer Watchdog\n",
      "Is There an Ethical Way to Kill Rats? Should We Even Ask?\n",
      "Biden Administration Announces Crackdown on Migrant Child Labor\n",
      "Snow and Sleet Are Coming to the Northeast After a Winter Lull\n",
      "How much snow will fall where you live? Search for your community to see.\n",
      "Quake in Turkey Could Offer Clues for California’s Future\n",
      "A 5.2-magnitude earthquake in Turkey shook parts of the same area stricken by a far stronger quake on Feb. 6.\n",
      "Advertisement\n",
      "The Best Looks From the Screen Actors Guild Awards\n",
      "If you’re an anxious person and want to quit your job, here’s what to do.\n",
      "An N.B.A. trade was tough news — for the players’ dogs.\n",
      "This Is Not How Pete Buttigieg Wanted to Visit Ohio\n",
      "I Went to Syria, the Country That Remade Our World, and Here Is What I Saw\n",
      "President Biden’s Succession Problem\n",
      "My Fellow Liberals Are Exaggerating the Dangers of Ron DeSantis\n",
      "Janet Yellen: President Zelensky Is Right. Aid to Ukraine Is Not Charity.\n",
      "A War With China Would Be Unlike Anything Americans Have Faced Before\n",
      "The Fate of the Okefenokee Swamp Is in Your Hands\n",
      "A Gold Mine of Clean Energy May Be Hiding Under Our Feet\n",
      "Choosing Love and Community Over Shame and Jail\n",
      "Fixes for Social Security and Medicare\n",
      "Why Fox News Lied to the Viewers It ‘Respects’\n",
      "The Imminent Danger of A.I. Is One We’re Not Talking About\n",
      "Even Democrats Like Me Are Fed Up With San Francisco\n",
      "The Brave Man Whom Putin Wants to Kill\n",
      "From Carter to M.T.G.: What a Peach State Plummet\n",
      "One Year With a Team Trying to Change America’s ‘Deep Hatred’ For Those Who Use Drugs\n",
      "Advertisement\n",
      "The Morning\n",
      "Listen to ‘The Daily’\n",
      "Read the Well Newsletter\n",
      "Read the Five Weeknight Dishes Newsletter\n",
      "Biden Could Face Veto Test Over Contentious D.C. Crime Bill\n",
      "Revenge Attacks After Killing of Israeli Settlers Leave West Bank in Turmoil\n",
      "U.S. Commandos Advise Somalis in Fight Against Qaeda Branch\n",
      "Security Agencies and Congress Brace for Fight Over Expiring Surveillance Law\n",
      "Musk Accuses Media of Bias in Debate Over ‘Dilbert’ Creator’s Racist Rant\n",
      "China Dismisses Latest Claim That Lab Leak Likely Caused Covid\n",
      "‘Crying Indian’ Ad That Targeted Pollution to Be Retired\n",
      "TD Bank Agrees to Pay $1.2 Billion to Settle Ponzi Scheme Case\n",
      "Vice Media Names Two Co-Chief Executives to Replace Nancy Dubuc\n",
      "Raymond Trollat, Who Took a Hilly Wine Region to New Heights, Dies at 91\n",
      "U.S. hot spots ›\n",
      "Global hot spots ›\n",
      "Advertisement\n",
      "An Office in Which Screaming Is Encouraged\n",
      "Unlikely Rebels With a Very Good Cause\n",
      "‘Mama, I Want to Sing!’ Returns for 40th Anniversary\n",
      "Give Your Heirloom Jewelry a Modern Makeover\n",
      "A Life of Arctic Adventure\n",
      "Teammates Told Us Their Best Stories of an M.L.B. Star. We Let Him Respond.\n",
      "Meet the Revolutionary Offense Using Two Quarterbacks at Once\n",
      "Alarm Bells Ring After an M.L.B. Game Ends in a Pitch Clock Violation\n",
      "An N.B.A Star’s 71-Point Masterpiece Was ‘a Piece of Art’\n",
      "A Pair of Quarterbacks Lead Our List of the Top 150 N.F.L. Free Agents\n",
      "Tommy Fury, LIV Golf and 72 Hours of Saudi ‘Sportswashing’\n",
      "Advertisement\n",
      "Wordle\n",
      "The Best First Wordle Words\n",
      "Spelling Bee\n",
      "The Crossword\n",
      "Letter Boxed\n",
      "Tiles\n",
      "news\n",
      "Opinion\n",
      "Arts\n",
      "Living\n",
      "More\n",
      "Subscribe\n"
     ]
    }
   ],
   "source": [
    "for title in h3Title:\n",
    "    if title not in h3TitleAuthor:\n",
    "        print(title.string)"
   ]
  },
  {
   "cell_type": "code",
   "execution_count": null,
   "id": "d81433ed",
   "metadata": {},
   "outputs": [],
   "source": []
  },
  {
   "cell_type": "code",
   "execution_count": null,
   "id": "3da72126",
   "metadata": {},
   "outputs": [],
   "source": []
  }
 ],
 "metadata": {
  "kernelspec": {
   "display_name": "Python 3 (ipykernel)",
   "language": "python",
   "name": "python3"
  },
  "language_info": {
   "codemirror_mode": {
    "name": "ipython",
    "version": 3
   },
   "file_extension": ".py",
   "mimetype": "text/x-python",
   "name": "python",
   "nbconvert_exporter": "python",
   "pygments_lexer": "ipython3",
   "version": "3.9.13"
  }
 },
 "nbformat": 4,
 "nbformat_minor": 5
}
