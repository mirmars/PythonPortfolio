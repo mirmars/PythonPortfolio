{
 "cells": [
  {
   "cell_type": "markdown",
   "id": "08f23d54",
   "metadata": {},
   "source": [
    "# Exercise 17"
   ]
  },
  {
   "cell_type": "markdown",
   "id": "9f481a39",
   "metadata": {},
   "source": [
    "https://www.practicepython.org/exercise/2014/06/06/17-decode-a-web-page.html\n",
    "\n",
    "Use the BeautifulSoup and requests Python packages to print out a list of all the article titles on the New York Times homepage.\n",
    "\n",
    "MirMars: The NYT webpage has changed since the reported solution on the exercise page was crafted! It no longer uses a neat story-heading class, and in fact uses many classes for its article titles. I was able to get most of the titles using the following code to remove inappropriate classes, but this could be improved with more time investment to fine-tune for outliers."
   ]
  },
  {
   "cell_type": "code",
   "execution_count": 358,
   "id": "83df9e3d",
   "metadata": {
    "scrolled": true
   },
   "outputs": [],
   "source": [
    "from bs4 import BeautifulSoup\n",
    "import requests\n",
    "import re\n",
    "\n",
    "url = 'https://www.nytimes.com/'\n",
    "r = requests.get(url)\n",
    "r_html = r.text\n",
    "\n",
    "soup = BeautifulSoup(r_html)\n",
    "\n",
    "Title = []\n",
    "notTitle = [{\"data-testid\":\"site-index-header\"},\n",
    "            {\"id\":\"site-index-section-label-1\"},\n",
    "            {\"id\":\"site-index-section-label-2\"},\n",
    "            {\"id\":\"site-index-section-label-3\"},\n",
    "            {\"id\":\"item-siteindex-3\"},\n",
    "            {\"class\":\"css-66vf3i\"},\n",
    "            {\"class\":\"css-1hgbvll\"},\n",
    "            {\"class\":\"css-chce6w\"}]\n",
    "headerTags = [\"h3\"]\n",
    "\n",
    "for hdr in headerTags:\n",
    "    Title = Title + list(soup.find_all(hdr))\n",
    "    for i in notTitle:\n",
    "        notTitle = notTitle + list(soup.find_all(hdr, i))"
   ]
  },
  {
   "cell_type": "code",
   "execution_count": 359,
   "id": "2a62ae7c",
   "metadata": {
    "scrolled": true
   },
   "outputs": [
    {
     "name": "stdout",
     "output_type": "stream",
     "text": [
      "Scrounging for Tanks for Ukraine, Europe’s Armies Come Up Short\n",
      "For Ukraine’s Animals, a Home Is Getting Harder to Find\n",
      "First Significant Snowfall Makes Belated Arrival in New York\n",
      "Analysis: Sunak Hopes to Move Past Brexit, at Long Last\n",
      "Supreme Court to Hear Cases on Biden’s Student Loan Cancellation Plan\n",
      "China Moves to Erase the Vestiges of ‘Zero Covid’ to Deter Dissent\n",
      "Eugene Levy Never Wanted to See the World\n",
      "How a Drug Company Exploited a Safety Requirement to Make Money\n",
      "As Lightfoot Tries for Second Term, Jabs Go From Friendly to Harsh\n",
      "Biden’s Semiconductor Plan Flexes the Power of the Federal Government\n",
      "‘Different from the Other Southerners’: Jimmy Carter and Black America\n",
      "Why 23 Dead Whales Have Washed Up on the East Coast Since December\n",
      "Sake Is Booming in America\n",
      "Read our guide to key terms, styles and other basics about sake.\n",
      "Ephemeral tattoos were “made to fade.” Some still haven’t.\n",
      "Netanyahu Is Shattering Israeli Society\n",
      "Hunter Biden Has Some Explaining to Do\n",
      "1776 Is Not Just What Ron DeSantis Wants It to Be\n",
      "Conspiracy Theorizing Goes Off the Rails\n",
      "DeSantis’s ‘Apocalyptic’ Attack on Higher Education\n",
      "Meet the World’s Most Honorable Bank Robbers\n",
      "McDonald’s Sprite and Hamburger Helper Made Me Who I Am\n",
      "The New Weight Loss Drugs and the Old Weight Gain Myths\n",
      "A Gold Mine of Clean Energy May Be Hiding Under Our Feet\n",
      "A War With China Would Be Unlike Anything Americans Have Faced Before\n",
      "Janet Yellen: President Zelensky Is Right. Aid to Ukraine Is Not Charity.\n",
      "I Went to Syria, the Country That Remade Our World, and Here Is What I Saw\n",
      "President Biden’s Succession Problem\n",
      "My Fellow Liberals Are Exaggerating the Dangers of Ron DeSantis\n",
      "This Is Not How Pete Buttigieg Wanted to Visit Ohio\n",
      "Fixes for Social Security and Medicare\n",
      "Restaurant Chains Make It Cost More to Be Loyal, Blaming Inflation\n",
      "U.S. hot spots ›\n",
      "Global hot spots ›\n",
      "Spring Comes Early With This Bright, Cozy Dinner\n",
      "In Brooklyn, a Neighborhood Filled With Families\n",
      "Friends for 2 Weeks, and ‘Then I Decided’\n",
      "Andie MacDowell Is Still Rising\n",
      "Review: A Blunt New ‘Lohengrin’ Stars a Shining Knight\n",
      "Teammates Told Us Their Best Stories of an M.L.B. Star. We Let Him Respond.\n"
     ]
    }
   ],
   "source": [
    "for title in Title:\n",
    "    if title not in notTitle:\n",
    "        if len(title.string.split()) > 1:\n",
    "            print(title.string)"
   ]
  },
  {
   "cell_type": "markdown",
   "id": "bea640c6",
   "metadata": {},
   "source": [
    "# Exercise 21"
   ]
  },
  {
   "cell_type": "markdown",
   "id": "fc424974",
   "metadata": {},
   "source": [
    "https://www.practicepython.org/exercise/2014/11/30/21-write-to-a-file.html\n",
    "\n",
    "... Instead of printing the results to a screen, write the results to a txt file. In your code, just make up a name for the file you are saving to.\n",
    "\n",
    "Extras:\n",
    "\n",
    "Ask the user to specify the name of the output file that will be saved."
   ]
  },
  {
   "cell_type": "code",
   "execution_count": 360,
   "id": "818b57cb",
   "metadata": {},
   "outputs": [],
   "source": [
    "from bs4 import BeautifulSoup\n",
    "import requests\n",
    "\n",
    "url = 'https://www.nytimes.com/'\n",
    "r = requests.get(url)\n",
    "r_html = r.text\n",
    "\n",
    "soup = BeautifulSoup(r_html)\n",
    "\n",
    "Title = []\n",
    "notTitle = [{\"data-testid\":\"site-index-header\"},\n",
    "            {\"id\":\"site-index-section-label-1\"},\n",
    "            {\"id\":\"site-index-section-label-2\"},\n",
    "            {\"id\":\"site-index-section-label-3\"},\n",
    "            {\"id\":\"item-siteindex-3\"},\n",
    "            {\"class\":\"css-66vf3i\"},\n",
    "            {\"class\":\"css-1hgbvll\"},\n",
    "            {\"class\":\"css-chce6w\"}]\n",
    "headerTags = [\"h3\"]\n",
    "\n",
    "for hdr in headerTags:\n",
    "    Title = Title + list(soup.find_all(hdr))\n",
    "    for i in notTitle:\n",
    "        notTitle = notTitle + list(soup.find_all(hdr, i))\n",
    "\n",
    "def getFileName():\n",
    "    file = input('What should we save this file as? (leave blank for nyt_article_titles.txt): ')\n",
    "    if file == '':\n",
    "        file = 'nyt_article_titles.txt'\n",
    "    if file[-4:] != '.txt':\n",
    "        file = file + '.txt'\n",
    "    print(f'File will be named \"{file}\".')\n",
    "    return file"
   ]
  },
  {
   "cell_type": "code",
   "execution_count": 364,
   "id": "38a331f2",
   "metadata": {},
   "outputs": [
    {
     "name": "stdout",
     "output_type": "stream",
     "text": [
      "What should we save this file as? (leave blank for nyt_article_titles.txt): \n",
      "File will be named \"nyt_article_titles.txt\".\n"
     ]
    }
   ],
   "source": [
    "filename = getFileName()\n",
    "            \n",
    "with open(filename,'a') as open_file:\n",
    "    for title in Title:\n",
    "        if title not in notTitle:\n",
    "            if len(title.string.split()) > 1:\n",
    "                open_file.write(title.string + '\\n')"
   ]
  },
  {
   "cell_type": "code",
   "execution_count": 365,
   "id": "64211cb2",
   "metadata": {
    "scrolled": true
   },
   "outputs": [
    {
     "name": "stdout",
     "output_type": "stream",
     "text": [
      "Scrounging for Tanks for Ukraine, Europe’s Armies Come Up Short\n",
      "For Ukraine’s Animals, a Home Is Getting Harder to Find\n",
      "First Significant Snowfall Makes Belated Arrival in New York\n",
      "Analysis: Sunak Hopes to Move Past Brexit, at Long Last\n",
      "Supreme Court to Hear Cases on Biden’s Student Loan Cancellation Plan\n",
      "China Moves to Erase the Vestiges of ‘Zero Covid’ to Deter Dissent\n",
      "Eugene Levy Never Wanted to See the World\n",
      "How a Drug Company Exploited a Safety Requirement to Make Money\n",
      "As Lightfoot Tries for Second Term, Jabs Go From Friendly to Harsh\n",
      "Biden’s Semiconductor Plan Flexes the Power of the Federal Government\n",
      "‘Different from the Other Southerners’: Jimmy Carter and Black America\n",
      "Why 23 Dead Whales Have Washed Up on the East Coast Since December\n",
      "Sake Is Booming in America\n",
      "Read our guide to key terms, styles and other basics about sake.\n",
      "Ephemeral tattoos were “made to fade.” Some still haven’t.\n",
      "Netanyahu Is Shattering Israeli Society\n",
      "Hunter Biden Has Some Explaining to Do\n",
      "1776 Is Not Just What Ron DeSantis Wants It to Be\n",
      "Conspiracy Theorizing Goes Off the Rails\n",
      "DeSantis’s ‘Apocalyptic’ Attack on Higher Education\n",
      "Meet the World’s Most Honorable Bank Robbers\n",
      "McDonald’s Sprite and Hamburger Helper Made Me Who I Am\n",
      "The New Weight Loss Drugs and the Old Weight Gain Myths\n",
      "A Gold Mine of Clean Energy May Be Hiding Under Our Feet\n",
      "A War With China Would Be Unlike Anything Americans Have Faced Before\n",
      "Janet Yellen: President Zelensky Is Right. Aid to Ukraine Is Not Charity.\n",
      "I Went to Syria, the Country That Remade Our World, and Here Is What I Saw\n",
      "President Biden’s Succession Problem\n",
      "My Fellow Liberals Are Exaggerating the Dangers of Ron DeSantis\n",
      "This Is Not How Pete Buttigieg Wanted to Visit Ohio\n",
      "Fixes for Social Security and Medicare\n",
      "Restaurant Chains Make It Cost More to Be Loyal, Blaming Inflation\n",
      "U.S. hot spots ›\n",
      "Global hot spots ›\n",
      "Spring Comes Early With This Bright, Cozy Dinner\n",
      "In Brooklyn, a Neighborhood Filled With Families\n",
      "Friends for 2 Weeks, and ‘Then I Decided’\n",
      "Andie MacDowell Is Still Rising\n",
      "Review: A Blunt New ‘Lohengrin’ Stars a Shining Knight\n",
      "Teammates Told Us Their Best Stories of an M.L.B. Star. We Let Him Respond.\n",
      "\n"
     ]
    }
   ],
   "source": [
    "#test reading the file to be sure it wrote correctly\n",
    "\n",
    "with open(filename,'r') as open_file:\n",
    "    print(open_file.read())"
   ]
  },
  {
   "cell_type": "code",
   "execution_count": 363,
   "id": "79f3a12b",
   "metadata": {},
   "outputs": [],
   "source": [
    "#clearing the file so we can re-run the code\n",
    "\n",
    "with open(filename,'w') as open_file:\n",
    "    open_file.write('')"
   ]
  },
  {
   "cell_type": "code",
   "execution_count": null,
   "id": "98779c67",
   "metadata": {},
   "outputs": [],
   "source": []
  }
 ],
 "metadata": {
  "kernelspec": {
   "display_name": "Python 3 (ipykernel)",
   "language": "python",
   "name": "python3"
  },
  "language_info": {
   "codemirror_mode": {
    "name": "ipython",
    "version": 3
   },
   "file_extension": ".py",
   "mimetype": "text/x-python",
   "name": "python",
   "nbconvert_exporter": "python",
   "pygments_lexer": "ipython3",
   "version": "3.9.13"
  }
 },
 "nbformat": 4,
 "nbformat_minor": 5
}
